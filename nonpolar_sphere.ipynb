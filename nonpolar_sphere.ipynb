{
 "cells": [
  {
   "cell_type": "code",
   "execution_count": 46,
   "metadata": {},
   "outputs": [],
   "source": [
    "import numpy\n",
    "import bempp.api\n",
    "from bempp.api.operators.boundary import sparse, laplace\n",
    "from scipy.sparse.linalg import gmres"
   ]
  },
  {
   "cell_type": "code",
   "execution_count": 47,
   "metadata": {},
   "outputs": [],
   "source": [
    "def rhs_fun(x, n, domain_index,result):\n",
    "    global phi_static\n",
    "    result[:] = phi_static\n",
    "\n",
    "def energy_sphere(R, d_stern, vertices, elements, eps_s):\n",
    "    R_diel = R - d_stern\n",
    "\n",
    "    grid_diel = bempp.api.grid_from_element_data(R_diel*vertices, elements)\n",
    "    grid_stern = bempp.api.grid_from_element_data((R_diel+d_stern)*vertices, elements)\n",
    "\n",
    "    space_diel = bempp.api.function_space(grid_diel, \"DP\", 0)\n",
    "    space_stern = bempp.api.function_space(grid_stern, \"DP\", 0)\n",
    "    \n",
    "    N_diel = grid_diel.leaf_view.entity_count(0)\n",
    "    N_stern = grid_stern.leaf_view.entity_count(0)\n",
    "\n",
    "    phis_grid_fun = bempp.api.GridFunction(space_diel, fun=rhs_fun)\n",
    "\n",
    "    rhs = numpy.concatenate([eps_s*phis_grid_fun.coefficients, \n",
    "                      numpy.zeros(N_stern)])\n",
    "    \n",
    "    M11   = laplace.single_layer(space_diel, space_diel, space_diel)\n",
    "    M12   = laplace.single_layer(space_stern, space_diel, space_diel)\n",
    "    M21   = laplace.single_layer(space_diel, space_stern, space_stern)\n",
    "    M22   = laplace.single_layer(space_stern, space_stern, space_stern)\n",
    "\n",
    "    blocked = bempp.api.BlockedOperator(2, 2)\n",
    "    blocked[0,0] = M11\n",
    "    blocked[0,1] = M12\n",
    "    blocked[1,0] = M21\n",
    "    blocked[1,1] = M22\n",
    "    op_discrete = blocked.strong_form()\n",
    "    \n",
    "    sigma, info = gmres(op_discrete, rhs, tol=1e-5, maxiter=500, restart = 1000)\n",
    "    \n",
    "    sigma_d = sigma[:N_diel]\n",
    "    sigma_s = sigma[N_diel:]\n",
    "    \n",
    "    elements_d = list(grid_diel.leaf_view.entity_iterator(0))\n",
    "    elements_s = list(grid_stern.leaf_view.entity_iterator(0))\n",
    "\n",
    "    area_d = numpy.zeros(N_diel)\n",
    "    area_s = numpy.zeros(N_stern)\n",
    "\n",
    "    for i in range(N_diel):\n",
    "        area_d[i] = elements_d[i].geometry.volume\n",
    "    for i in range(N_stern):\n",
    "        area_s[i] = elements_s[i].geometry.volume\n",
    "        \n",
    "    energy = 0.5*numpy.sum(area_d*sigma_d*phi_static)\n",
    "    \n",
    "    e_a = energy/(4*numpy.pi*(R_diel+d_stern)**2)\n",
    "    \n",
    "    #e_a = energy/(4*numpy.pi*(R_diel)**2)\n",
    "    return energy, e_a"
   ]
  },
  {
   "cell_type": "code",
   "execution_count": 48,
   "metadata": {},
   "outputs": [],
   "source": [
    "grid_base = bempp.api.shapes.sphere(h=0.1)\n",
    "\n",
    "vertices = grid_base.leaf_view.vertices \n",
    "elements = grid_base.leaf_view.elements \n",
    "\n",
    "d_stern = 1.4\n",
    "phi_static = 10. # kcal/mol/e\n",
    "phi_static *= 4.184 # kJ/mol/e\n",
    "eps_s = 18.#80.\n",
    "\n",
    "Radius = 10*numpy.array([0.15903614457831333, \n",
    "0.23614457831325308, \n",
    "0.35180722891566263, \n",
    "0.48032128514056227, \n",
    "0.6409638554216868, \n",
    "0.8016064257028112, \n",
    "0.9590361445783132, \n",
    "1.1293172690763051, \n",
    "1.3542168674698791, \n",
    "1.6112449799196784, \n",
    "1.8811244979919675])"
   ]
  },
  {
   "cell_type": "code",
   "execution_count": 49,
   "metadata": {},
   "outputs": [],
   "source": [
    "energy_area = numpy.zeros(len(Radius))\n",
    "energy      = numpy.zeros(len(Radius))\n",
    "\n",
    "for i in range(len(energy)):\n",
    "    energy[i], energy_area[i] = energy_sphere(Radius[i], d_stern, vertices, elements, eps_s)\n",
    "    \n",
    "energy_area *= 6.022/1e3 # kJ/(mol*ang**2) to mJ/m**2 (according to fig 2 in Chandler 2005) 1e\n",
    "energy *= 6.022/1e3 # kJ/mol to mJ/(m**2)*ang**2"
   ]
  },
  {
   "cell_type": "code",
   "execution_count": 50,
   "metadata": {},
   "outputs": [],
   "source": [
    "from matplotlib import pyplot\n",
    "\n",
    "E_area_chandler = numpy.array([12.995391705069125,\n",
    "24.239631336405523,\n",
    "33.64055299539171,\n",
    "44.51612903225807,\n",
    "51.1520737327189,\n",
    "55.20737327188941,\n",
    "57.78801843317973,\n",
    "59.44700460829494,\n",
    "61.65898617511521,\n",
    "64.0552995391705,\n",
    "64.60829493087559])"
   ]
  },
  {
   "cell_type": "code",
   "execution_count": 51,
   "metadata": {},
   "outputs": [
    {
     "data": {
      "text/plain": [
       "<matplotlib.legend.Legend at 0x7f253d6b6390>"
      ]
     },
     "execution_count": 51,
     "metadata": {},
     "output_type": "execute_result"
    },
    {
     "data": {
      "image/png": "[encoded data removed]",
      "text/plain": [
       "<matplotlib.figure.Figure at 0x7f25fe8b8150>"
      ]
     },
     "metadata": {},
     "output_type": "display_data"
    }
   ],
   "source": [
    "pyplot.plot(Radius, energy_area, marker='+', ls='', label='BEM++')\n",
    "pyplot.plot(Radius, E_area_chandler, marker='o', ls='', label='Chandler')\n",
    "pyplot.legend(loc='best')"
   ]
  },
  {
   "cell_type": "code",
   "execution_count": 52,
   "metadata": {},
   "outputs": [
    {
     "data": {
      "text/plain": [
       "<matplotlib.figure.Figure at 0x7f25fe8b8790>"
      ]
     },
     "metadata": {},
     "output_type": "display_data"
    }
   ],
   "source": [
    "pyplot.savefig('nonpolar_energy.pdf')"
   ]
  },
  {
   "cell_type": "code",
   "execution_count": 53,
   "metadata": {},
   "outputs": [
    {
     "data": {
      "text/plain": [
       "<matplotlib.legend.Legend at 0x7f253d2c8510>"
      ]
     },
     "execution_count": 53,
     "metadata": {},
     "output_type": "execute_result"
    },
    {
     "data": {
      "image/png": "[encoded data removed]",
      "text/plain": [
       "<matplotlib.figure.Figure at 0x7f253d6b6c10>"
      ]
     },
     "metadata": {},
     "output_type": "display_data"
    }
   ],
   "source": [
    "E_chandler = E_area_chandler*4*numpy.pi*Radius**2 # in mJ/(m**2)*angs**2\n",
    "pyplot.plot(Radius, energy, marker='+', ls='', label='BEM++')\n",
    "pyplot.plot(Radius, E_chandler, marker='o', ls='', label='Chandler')\n",
    "pyplot.legend(loc='best')"
   ]
  },
  {
   "cell_type": "code",
   "execution_count": 54,
   "metadata": {},
   "outputs": [
    {
     "name": "stdout",
     "output_type": "stream",
     "text": [
      "[ -4.14855086e-04  -1.33685189e-03  -3.89669547e-03  -9.02816988e-03\n",
      "  -1.99480642e-02  -3.72446041e-02  -6.17942339e-02  -9.84211086e-02\n",
      "  -1.65731143e-01  -2.73803071e-01  -4.29327872e-01]\n",
      "[ -1.30525353e-05  -1.90773247e-05  -2.50540007e-05  -3.11405439e-05\n",
      "  -3.86388163e-05  -4.61244412e-05  -5.34648235e-05  -6.14110397e-05\n",
      "  -7.19147252e-05  -8.39276950e-05  -9.65481911e-05]\n"
     ]
    }
   ],
   "source": [
    "# compute LJ energy\n",
    "rho_w = 0.0336 # 1/angs3 number density of water at standard conditions\n",
    "water_r = 1.7683 # angs\n",
    "water_eps = 0.1520 # kcal/mol\n",
    "\n",
    "ion_r = Radius - d_stern\n",
    "ion_eps = 0.2 # LJ well depth\n",
    "\n",
    "epsilon = numpy.sqrt(ion_eps*water_eps)\n",
    "\n",
    "A = epsilon*(water_r + ion_r)**12\n",
    "B = 2*epsilon*(water_r + ion_r)**6\n",
    "surf_area = 4*numpy.pi*(ion_r+d_stern)**2\n",
    "rdn = ion_r + d_stern\n",
    "\n",
    "LJ_energy = rho_w * (1/9.*A/(ion_r+d_stern)**12 - 1/3.*B/(ion_r+d_stern)**6) * rdn * surf_area\n",
    "LJ_energy *= 6.022/4.184 * 1e-3 # kcal/mol to mJ/(m**2) * ang**2\n",
    "LJ_energy_area = LJ_energy/surf_area # mJ/m**2\n",
    "\n",
    "print LJ_energy\n",
    "print LJ_energy_area"
   ]
  },
  {
   "cell_type": "code",
   "execution_count": 55,
   "metadata": {},
   "outputs": [
    {
     "data": {
      "text/plain": [
       "<matplotlib.legend.Legend at 0x7f253d701f90>"
      ]
     },
     "execution_count": 55,
     "metadata": {},
     "output_type": "execute_result"
    },
    {
     "data": {
      "image/png": "[encoded data removed]",
      "text/plain": [
       "<matplotlib.figure.Figure at 0x7f253d701050>"
      ]
     },
     "metadata": {},
     "output_type": "display_data"
    }
   ],
   "source": [
    "pyplot.plot(Radius, LJ_energy_area, marker='+', ls='', label='BEM++')\n",
    "#pyplot.plot(Radius, E_area_chandler, marker='o', ls='', label='Chandler')\n",
    "pyplot.legend(loc='best')"
   ]
  },
  {
   "cell_type": "code",
   "execution_count": 56,
   "metadata": {},
   "outputs": [
    {
     "data": {
      "text/plain": [
       "<matplotlib.legend.Legend at 0x7f253d229d50>"
      ]
     },
     "execution_count": 56,
     "metadata": {},
     "output_type": "execute_result"
    },
    {
     "data": {
      "image/png": "[encoded data removed]",
      "text/plain": [
       "<matplotlib.figure.Figure at 0x7f253d229bd0>"
      ]
     },
     "metadata": {},
     "output_type": "display_data"
    }
   ],
   "source": [
    "pyplot.plot(Radius, LJ_energy, marker='+', ls='', label='BEM++')\n",
    "#pyplot.plot(Radius, E_chandler, marker='o', ls='', label='Chandler')\n",
    "pyplot.legend(loc='best')"
   ]
  },
  {
   "cell_type": "code",
   "execution_count": 57,
   "metadata": {},
   "outputs": [],
   "source": [
    "energy_total = energy + LJ_energy\n",
    "energy_area_total = energy_area + LJ_energy_area"
   ]
  },
  {
   "cell_type": "code",
   "execution_count": 58,
   "metadata": {},
   "outputs": [
    {
     "data": {
      "text/plain": [
       "<matplotlib.legend.Legend at 0x7f253cb205d0>"
      ]
     },
     "execution_count": 58,
     "metadata": {},
     "output_type": "execute_result"
    },
    {
     "data": {
      "image/png": "[encoded data removed]",
      "text/plain": [
       "<matplotlib.figure.Figure at 0x7f253cc89490>"
      ]
     },
     "metadata": {},
     "output_type": "display_data"
    }
   ],
   "source": [
    "pyplot.plot(Radius, energy_area_total, marker='+', ls='', label='BEM++')\n",
    "pyplot.plot(Radius, E_area_chandler, marker='o', ls='', label='Chandler')\n",
    "pyplot.legend(loc='best')"
   ]
  },
  {
   "cell_type": "code",
   "execution_count": 59,
   "metadata": {},
   "outputs": [
    {
     "data": {
      "text/plain": [
       "<matplotlib.legend.Legend at 0x7f253ce1dc90>"
      ]
     },
     "execution_count": 59,
     "metadata": {},
     "output_type": "execute_result"
    },
    {
     "data": {
      "image/png": "[encoded data removed]",
      "text/plain": [
       "<matplotlib.figure.Figure at 0x7f253caf4c10>"
      ]
     },
     "metadata": {},
     "output_type": "display_data"
    }
   ],
   "source": [
    "pyplot.plot(Radius, energy_total, marker='+', ls='', label='BEM++')\n",
    "pyplot.plot(Radius, E_chandler, marker='o', ls='', label='Chandler')\n",
    "pyplot.legend(loc='best')"
   ]
  },
  {
   "cell_type": "code",
   "execution_count": 60,
   "metadata": {},
   "outputs": [
    {
     "data": {
      "text/plain": [
       "(array([  1.59036145,   2.36144578,   3.51807229,   4.80321285,\n",
       "          6.40963855,   8.01606426,   9.59036145,  11.29317269,\n",
       "         13.54216867,  16.1124498 ,  18.81124498]),\n",
       " array([ -4.14855086e-04,  -1.33685189e-03,  -3.89669547e-03,\n",
       "         -9.02816988e-03,  -1.99480642e-02,  -3.72446041e-02,\n",
       "         -6.17942339e-02,  -9.84211086e-02,  -1.65731143e-01,\n",
       "         -2.73803071e-01,  -4.29327872e-01]),\n",
       " array([  2.57543806e+02,   1.93156519e+03,   6.33976951e+03,\n",
       "          1.39076756e+04,   2.73177991e+04,   4.51190218e+04,\n",
       "          6.68223811e+04,   9.50423113e+04,   1.39879321e+05,\n",
       "          2.01660474e+05,   2.78633981e+05]))"
      ]
     },
     "execution_count": 60,
     "metadata": {},
     "output_type": "execute_result"
    }
   ],
   "source": [
    "Radius,LJ_energy, energy"
   ]
  },
  {
   "cell_type": "code",
   "execution_count": 91,
   "metadata": {},
   "outputs": [
    {
     "data": {
      "text/plain": [
       "<matplotlib.figure.Figure at 0x7f253cbcdb50>"
      ]
     },
     "metadata": {},
     "output_type": "display_data"
    },
    {
     "data": {
      "image/png": "[encoded data removed]",
      "text/plain": [
       "<matplotlib.figure.Figure at 0x7f253cb34150>"
      ]
     },
     "metadata": {},
     "output_type": "display_data"
    }
   ],
   "source": [
    "pyplot.clf()\n",
    "font={'family':'serif','size':9}\n",
    "pyplot.figure(figsize=(3,2),dpi=80)\n",
    "pyplot.rc('font',**font)\n",
    "pyplot.plot(0.1*Radius, E_area_chandler, marker='o', c='w', mec='k', ls='', label='MD')\n",
    "pyplot.plot(0.1*Radius, energy_area, marker='+', c='k', ls='', label='BEM')\n",
    "pyplot.xlabel('Sphere radius [nm]')\n",
    "pyplot.ylabel('$\\Delta$ G$_{cav}$/4$\\pi$ R$^2$ [mJ/m$^2$]')\n",
    "pyplot.legend(loc='best')\n",
    "pyplot.subplots_adjust(left=0.17,bottom=0.22,right=0.96,top=0.95)\n",
    "pyplot.savefig('sphere.pdf')"
   ]
  },
  {
   "cell_type": "code",
   "execution_count": null,
   "metadata": {},
   "outputs": [],
   "source": []
  }
 ],
 "metadata": {
  "kernelspec": {
   "display_name": "Python 2",
   "language": "python",
   "name": "python2"
  },
  "language_info": {
   "codemirror_mode": {
    "name": "ipython",
    "version": 2
   },
   "file_extension": ".py",
   "mimetype": "text/x-python",
   "name": "python",
   "nbconvert_exporter": "python",
   "pygments_lexer": "ipython2",
   "version": "2.7.15+"
  }
 },
 "nbformat": 4,
 "nbformat_minor": 2
}
