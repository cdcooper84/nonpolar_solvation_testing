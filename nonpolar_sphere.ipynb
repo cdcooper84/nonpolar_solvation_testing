{
 "cells": [
  {
   "cell_type": "code",
   "execution_count": null,
   "metadata": {},
   "outputs": [],
   "source": [
    "import numpy\n",
    "import bempp.api\n",
    "from bempp.api.operators.boundary import sparse, laplace\n",
    "from scipy.sparse.linalg import gmres"
   ]
  },
  {
   "cell_type": "code",
   "execution_count": null,
   "metadata": {},
   "outputs": [],
   "source": [
    "def rhs_fun(x, n, domain_index,result):\n",
    "    global phi_static\n",
    "    result[:] = phi_static\n",
    "\n",
    "def energy_sphere(R, d_stern, vertices, elements):\n",
    "    R_diel = R - d_stern\n",
    "\n",
    "    grid_diel = bempp.api.grid_from_element_data(R_diel*vertices, elements)\n",
    "    grid_stern = bempp.api.grid_from_element_data((R_diel+d_stern)*vertices, elements)\n",
    "\n",
    "    space_diel = bempp.api.function_space(grid_diel, \"DP\", 0)\n",
    "    space_stern = bempp.api.function_space(grid_stern, \"DP\", 0)\n",
    "    \n",
    "    N_diel = grid_diel.leaf_view.entity_count(0)\n",
    "    N_stern = grid_stern.leaf_view.entity_count(0)\n",
    "\n",
    "    phis_grid_fun = bempp.api.GridFunction(space_diel, fun=rhs_fun)\n",
    "\n",
    "    rhs = numpy.concatenate([phis_grid_fun.coefficients, \n",
    "                      numpy.zeros(N_stern)])\n",
    "    \n",
    "    M11   = laplace.single_layer(space_diel, space_diel, space_diel)\n",
    "    M12   = laplace.single_layer(space_stern, space_diel, space_diel)\n",
    "    M21   = laplace.single_layer(space_diel, space_stern, space_stern)\n",
    "    M22   = laplace.single_layer(space_stern, space_stern, space_stern)\n",
    "\n",
    "    blocked = bempp.api.BlockedOperator(2, 2)\n",
    "    blocked[0,0] = M11\n",
    "    blocked[0,1] = M12\n",
    "    blocked[1,0] = M21\n",
    "    blocked[1,1] = M22\n",
    "    op_discrete = blocked.strong_form()\n",
    "    \n",
    "    sigma, info = gmres(op_discrete, rhs, callback=iteration_counter, tol=1e-5, maxiter=500, restart = 1000)\n",
    "    \n",
    "    sigma_d = sigma[:N_diel]\n",
    "    sigma_s = sigma[N_diel:]\n",
    "    \n",
    "    elements_d = list(grid_diel.leaf_view.entity_iterator(0))\n",
    "    elements_s = list(grid_stern.leaf_view.entity_iterator(0))\n",
    "\n",
    "    area_d = numpy.zeros(N_diel)\n",
    "    area_s = numpy.zeros(N_stern)\n",
    "\n",
    "    for i in range(N_diel):\n",
    "        area_d[i] = elements_d[i].geometry.volume\n",
    "    for i in range(N_stern):\n",
    "        area_s[i] = elements_s[i].geometry.volume\n",
    "        \n",
    "    energy = 0.5*numpy.sum(area_d*sigma_d*phi_static)\n",
    "    \n",
    "    e_a = energy/(4*numpy.pi*(R_diel+d_stern)**2)\n",
    "    \n",
    "    #e_a = energy/(4*numpy.pi*(R_diel)**2)\n",
    "    return energy, e_a"
   ]
  },
  {
   "cell_type": "code",
   "execution_count": null,
   "metadata": {},
   "outputs": [],
   "source": [
    "grid_base = bempp.api.shapes.sphere(h=0.1)\n",
    "\n",
    "vertices = grid_base.leaf_view.vertices \n",
    "elements = grid_base.leaf_view.elements \n",
    "\n",
    "d_stern = 1.4\n",
    "phi_static = 12.\n",
    "\n",
    "Radius = 10*numpy.array([0.15903614457831333, \n",
    "0.23614457831325308, \n",
    "0.35180722891566263, \n",
    "0.48032128514056227, \n",
    "0.6409638554216868, \n",
    "0.8016064257028112, \n",
    "0.9590361445783132, \n",
    "1.1293172690763051, \n",
    "1.3542168674698791, \n",
    "1.6112449799196784, \n",
    "1.8811244979919675])"
   ]
  },
  {
   "cell_type": "code",
   "execution_count": null,
   "metadata": {},
   "outputs": [],
   "source": [
    "energy_area = numpy.zeros(len(Radius))\n",
    "energy      = numpy.zeros(len(Radius))\n",
    "\n",
    "for i in range(len(energy)):\n",
    "    energy[i], energy_area[i] = energy_sphere(Radius[i], d_stern, vertices, elements)"
   ]
  },
  {
   "cell_type": "code",
   "execution_count": null,
   "metadata": {},
   "outputs": [],
   "source": [
    "from matplotlib import pyplot\n",
    "\n",
    "E_area_chandler = numpy.array([12.995391705069125,\n",
    "24.239631336405523,\n",
    "33.64055299539171,\n",
    "44.51612903225807,\n",
    "51.1520737327189,\n",
    "55.20737327188941,\n",
    "57.78801843317973,\n",
    "59.44700460829494,\n",
    "61.65898617511521,\n",
    "64.0552995391705,\n",
    "64.60829493087559])"
   ]
  },
  {
   "cell_type": "code",
   "execution_count": null,
   "metadata": {},
   "outputs": [],
   "source": [
    "pyplot.plot(Radius, energy_area, marker='+', ls='', label='BEM++')\n",
    "pyplot.plot(Radius, E_area_chandler, marker='o', ls='', label='Chandler')\n",
    "pyplot.legend(loc='best')"
   ]
  },
  {
   "cell_type": "code",
   "execution_count": null,
   "metadata": {},
   "outputs": [],
   "source": [
    "pyplot.savefig('nonpolar_energy.pdf')"
   ]
  },
  {
   "cell_type": "code",
   "execution_count": null,
   "metadata": {},
   "outputs": [],
   "source": [
    "E_chandler = E_area_chandler*4*numpy.pi*Radius**2\n",
    "pyplot.plot(Radius, energy, marker='+', ls='', label='BEM++')\n",
    "pyplot.plot(Radius, E_chandler, marker='o', ls='', label='Chandler')\n",
    "pyplot.legend(loc='best')"
   ]
  }
 ],
 "metadata": {
  "kernelspec": {
   "display_name": "Python 2",
   "language": "python",
   "name": "python2"
  },
  "language_info": {
   "codemirror_mode": {
    "name": "ipython",
    "version": 2
   },
   "file_extension": ".py",
   "mimetype": "text/x-python",
   "name": "python",
   "nbconvert_exporter": "python",
   "pygments_lexer": "ipython2",
   "version": "2.7.12"
  }
 },
 "nbformat": 4,
 "nbformat_minor": 2
}
