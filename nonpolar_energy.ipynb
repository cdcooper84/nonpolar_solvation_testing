{
 "cells": [
  {
   "cell_type": "markdown",
   "metadata": {},
   "source": [
    "## Nonpolar solvation free energy with an implicit solvent model\n",
    "\n",
    "This notebook is an implementation of the implicit solvent model described in \"A Simple Electrostatic Model for the Hard-Sphere Solute Component of Nonpolar Solvation\" (Christopher D. Cooper and Jaydeep P. Bardhan) for the nonpolar component of solvation free energy ($\\Delta G_{np}$). This model decomposes $\\Delta G_{np}$ in the free energy spent in the cavity creation ($\\Delta G_{cav}$), plus the energy of the solute-solvent dispersion interaction ($\\Delta G_{disp}$), so that $\\Delta G_{np} = \\Delta G_{cav} + \\Delta G_{disp}$.\n",
    "\n",
    "### A capacitor model for $\\Delta G_{cav}$\n",
    "\n",
    "The cavity energy model is based in a simple *capacitor* model, that models the solute as two concentric conducting surfaces, one on the dielectric interface (the solvent-excluded surface) and another one around the first solvation shell, one water radius out (on the solvent-accessible surface). Then, $\\Delta G_{cav}$ is the electrostatic energy stored in the capacitor, such that it sustains a potential $\\phi_{static}$ inside the dielectric interface and 0 outside the shell.\n",
    "\n",
    "The electrostatic potential due to a surface charge $\\sigma$ is\n",
    "\n",
    "\\begin{equation}\n",
    "\\phi(\\mathbf{r}) = \\oint_\\Gamma \\frac{\\sigma(\\mathbf{r}')}{4\\pi\\epsilon|\\mathbf{r}-\\mathbf{r}'|}d\\mathbf{r}' = \\frac{1}{\\epsilon}V_\\mathbf{r}(\\sigma)\n",
    "\\end{equation}\n",
    "\n",
    "Then, the surface charge densities on the SES and SAS ($\\sigma_{SES}$ and $\\sigma_{SAS}$) required to have potential $\\phi_{static}$ on the SES and 0 on the SAS is solution to\n",
    "\n",
    "\\begin{equation}\n",
    "\\left[\n",
    "\\begin{matrix}\n",
    "V_{diel} & V_{diel} \\\\\n",
    "V_{shell} & V_{shell} \n",
    "\\end{matrix}\n",
    "\\right]\n",
    "\\left(\n",
    "\\begin{matrix}\n",
    "\\sigma_{diel}\\\\\n",
    "\\sigma_{shell}\n",
    "\\end{matrix}\n",
    "\\right)\n",
    "=\n",
    "\\epsilon_{shell}\n",
    "\\left(\n",
    "\\begin{matrix}\n",
    "\\phi_{static}\\\\\n",
    "0\n",
    "\\end{matrix}\n",
    "\\right)\n",
    "\\end{equation}\n",
    "\n",
    "where $\\epsilon_{shell}$ is the dielectric constant in the first hydration shell. Having the surface charges, the energy stored in the capacitor is\n",
    "\n",
    "\\begin{equation}\n",
    "\\Delta G_{cav} = \\oint \\phi_{static} \\sigma_{shell}(\\mathbf{r}) d\\mathbf{r}\n",
    "\\end{equation}\n",
    "\n",
    "Next, we will use the [`bempp`](https://bempp.com/) library to solve the matrix equation above numerically, and compute $\\Delta G_{cav}$.\n",
    "\n",
    "First, we import the required libraries and define a function to generate the grid in `bempp` format. This reads meshes in [`msms`](https://mgl.scripps.edu/people/sanner/html/msms_home.html) format (`.vert` and `.face` files)."
   ]
  },
  {
   "cell_type": "code",
   "execution_count": 1,
   "metadata": {},
   "outputs": [
    {
     "name": "stdout",
     "output_type": "stream",
     "text": [
      "Could not find Gmsh.Interactive plotting and shapes module not available.\n"
     ]
    }
   ],
   "source": [
    "import numpy\n",
    "import bempp.api\n",
    "from bempp.api.operators.boundary import sparse, laplace\n",
    "from scipy.sparse.linalg import gmres\n",
    "\n",
    "def generate_grid(filename):\n",
    "    \n",
    "    face = open(filename+'.face','r').read()\n",
    "    vert = open(filename+'.vert','r').read()\n",
    "\n",
    "    faces = numpy.vstack(numpy.char.split(face.split('\\n')[0:-1]))[:,:3].astype(int) - 1\n",
    "    verts = numpy.vstack(numpy.char.split(vert.split('\\n')[0:-1]))[:,:3].astype(float)\n",
    "\n",
    "    grid = bempp.api.grid_from_element_data(verts.transpose(), faces.transpose())\n",
    "    \n",
    "    N = grid.leaf_view.entity_count(0)\n",
    "    elements = list(grid.leaf_view.entity_iterator(0))\n",
    "    area = numpy.zeros(N)\n",
    "\n",
    "    # remove zero areas\n",
    "    for i in range(N):\n",
    "        area[i] = elements[i].geometry.volume\n",
    "\n",
    "    area_nonzero = numpy.where(area>1e-12)[0]\n",
    "    \n",
    "    faces_nonzero = faces[area_nonzero,:]\n",
    "    \n",
    "    grid = bempp.api.grid_from_element_data(verts.transpose(), faces_nonzero.transpose())\n",
    "    \n",
    "    return grid"
   ]
  },
  {
   "cell_type": "markdown",
   "metadata": {},
   "source": [
    "Next, we define a function to generate the right-hand side of the matrix equation, and another that will assemble the matrix and solve the linear system"
   ]
  },
  {
   "cell_type": "code",
   "execution_count": 3,
   "metadata": {},
   "outputs": [],
   "source": [
    "def rhs_fun(x, n, domain_index,result):\n",
    "    global phi_static\n",
    "    result[:] = phi_static\n",
    "\n",
    "def solve_matrix(mesh_diel, mesh_stern, phi_static, eps_s):\n",
    "\n",
    "    grid_diel = generate_grid(mesh_diel)\n",
    "    grid_stern = generate_grid(mesh_stern)\n",
    "\n",
    "    space_diel = bempp.api.function_space(grid_diel, \"DP\", 0)\n",
    "    space_stern = bempp.api.function_space(grid_stern, \"DP\", 0)\n",
    "    \n",
    "    N_diel = grid_diel.leaf_view.entity_count(0)\n",
    "    N_stern = grid_stern.leaf_view.entity_count(0)\n",
    "    \n",
    "    elements_d = list(grid_diel.leaf_view.entity_iterator(0))\n",
    "    elements_s = list(grid_stern.leaf_view.entity_iterator(0))\n",
    "\n",
    "    phis_grid_fun = bempp.api.GridFunction(space_diel, fun=rhs_fun)\n",
    "\n",
    "    rhs = numpy.concatenate([eps_s*phis_grid_fun.coefficients, \n",
    "                      numpy.zeros(N_stern)])\n",
    "    \n",
    "\n",
    "    M11   = laplace.single_layer(space_diel, space_diel, space_diel) \n",
    "    M12   = laplace.single_layer(space_stern, space_diel, space_diel) \n",
    "    M21   = laplace.single_layer(space_diel, space_stern, space_stern)\n",
    "    M22   = laplace.single_layer(space_stern, space_stern, space_stern) \n",
    "\n",
    "    blocked = bempp.api.BlockedOperator(2, 2)\n",
    "    blocked[0,0] = M11\n",
    "    blocked[0,1] = M12\n",
    "    blocked[1,0] = M21\n",
    "    blocked[1,1] = M22\n",
    "    op_discrete = blocked.strong_form()\n",
    "    \n",
    "    sigma, info = gmres(op_discrete, rhs, tol=1e-5, maxiter=500, restart = 1000)\n",
    "    \n",
    "    if info>0:\n",
    "        print ('Not converged, %i iterations'%info)\n",
    "    elif info<0:\n",
    "        print ('Solver diverges')\n",
    "    \n",
    "    sigma_d = sigma[:N_diel]\n",
    "    sigma_s = sigma[N_diel:]\n",
    "    \n",
    "    return sigma_d, elements_d"
   ]
  },
  {
   "cell_type": "markdown",
   "metadata": {},
   "source": [
    "Finally, we can compute the energy"
   ]
  },
  {
   "cell_type": "code",
   "execution_count": 4,
   "metadata": {},
   "outputs": [],
   "source": [
    "def compute_energy_cav(mesh_diel, sigma_diel, elements_diel, phi_static):\n",
    "    \n",
    "    qe = 1.60217662e-19\n",
    "    Rw = 1.4\n",
    "    Na = 6.0221409e23\n",
    "    eps_0 = 8.854187817e-12\n",
    "    \n",
    "    N_diel = len(sigma_diel)\n",
    "    area_d = numpy.zeros(N_diel)\n",
    "    for i in range(N_diel):\n",
    "        area_d[i] = elements_diel[i].geometry.volume\n",
    "    \n",
    "    energy = 0.5*numpy.sum(area_d*sigma_d*phi_static)\n",
    "\n",
    "    return energy"
   ]
  },
  {
   "cell_type": "markdown",
   "metadata": {},
   "source": [
    "Now, we can run as follows, where `mesh_ses` and `mesh_sas` are the `msms` mesh files of the SES and SAS, respectively"
   ]
  },
  {
   "cell_type": "code",
   "execution_count": 5,
   "metadata": {},
   "outputs": [
    {
     "ename": "NameError",
     "evalue": "name 'mesh_ses' is not defined",
     "output_type": "error",
     "traceback": [
      "\u001b[0;31m---------------------------------------------------------------------------\u001b[0m",
      "\u001b[0;31mNameError\u001b[0m                                 Traceback (most recent call last)",
      "\u001b[0;32m<ipython-input-5-54046f6deac8>\u001b[0m in \u001b[0;36m<module>\u001b[0;34m()\u001b[0m\n\u001b[1;32m      7\u001b[0m \u001b[0meps_s\u001b[0m \u001b[0;34m=\u001b[0m \u001b[0;36m7.38\u001b[0m\u001b[0;34m\u001b[0m\u001b[0;34m\u001b[0m\u001b[0m\n\u001b[1;32m      8\u001b[0m \u001b[0;34m\u001b[0m\u001b[0m\n\u001b[0;32m----> 9\u001b[0;31m \u001b[0msigma_diel\u001b[0m\u001b[0;34m,\u001b[0m \u001b[0melements_diel\u001b[0m \u001b[0;34m=\u001b[0m \u001b[0msolve_matrix\u001b[0m\u001b[0;34m(\u001b[0m\u001b[0mmesh_ses\u001b[0m\u001b[0;34m,\u001b[0m \u001b[0mmesh_diel\u001b[0m\u001b[0;34m,\u001b[0m \u001b[0mphi_static\u001b[0m\u001b[0;34m,\u001b[0m \u001b[0meps_s\u001b[0m\u001b[0;34m)\u001b[0m\u001b[0;34m\u001b[0m\u001b[0;34m\u001b[0m\u001b[0m\n\u001b[0m\u001b[1;32m     10\u001b[0m \u001b[0mdGcav\u001b[0m \u001b[0;34m=\u001b[0m \u001b[0mcompute_energy_cav\u001b[0m\u001b[0;34m(\u001b[0m\u001b[0mmesh_diel\u001b[0m\u001b[0;34m,\u001b[0m \u001b[0msigma_diel\u001b[0m\u001b[0;34m,\u001b[0m \u001b[0melements_diel\u001b[0m\u001b[0;34m,\u001b[0m \u001b[0mphi_static\u001b[0m\u001b[0;34m)\u001b[0m\u001b[0;34m\u001b[0m\u001b[0;34m\u001b[0m\u001b[0m\n",
      "\u001b[0;31mNameError\u001b[0m: name 'mesh_ses' is not defined"
     ]
    }
   ],
   "source": [
    "mesh_shell = 'mobley_test/nitroethane/surf_d02_stern'\n",
    "mesh_diel = 'mobley_test/nitroethane/surf_d02'\n",
    "\n",
    "phi_static = 10.7 #kcal/mol/e\n",
    "phi_static *= 4.184 # kJ/mol/e\n",
    "\n",
    "eps_s = 7.38\n",
    "\n",
    "sigma_diel, elements_diel = solve_matrix(mesh_ses, mesh_diel, phi_static, eps_s)\n",
    "dGcav = compute_energy_cav(mesh_diel, sigma_diel, elements_diel, phi_static)"
   ]
  },
  {
   "cell_type": "markdown",
   "metadata": {},
   "source": [
    "### A continuum integral model for $\\Delta G_{disp}$\n",
    "\n",
    "The solute-solvent dispersion interaction can be computed by integrating the Lennard-Jones potential in the solvent\n",
    "\n",
    "\\begin{equation}\n",
    "\\Delta G_{disp} = \\sum_i \\int_{solv}\\rho_w \\left(\\frac{A_i}{|\\mathbf{r}-\\mathbf{r}_i|^12} - \\frac{B_i}{|\\mathbf{r}-\\mathbf{r}_i|^6}\\right) d\\mathbf{r}\n",
    "\\end{equation}\n",
    "\n",
    "where the sum is over the solute molecules, $A_i$ and $B_i$ are the Lennard-Jones parameters for atom $i$, and $\\rho_w = 0.0336 angs^{-3}$ is the solvent number density. Using the divergence theorem, we write this equation as\n",
    "\n",
    "\\begin{equation}\n",
    "\\Delta G_{disp} = \\sum_i \\oint_{shell} \\rho_w \\frac{\\partial}{\\partial \\mathbf{n}}\\left( \\frac{A_i}{90|\\mathbf{r} - \\mathbf{r}_i|^{10}} - \\frac{B_i}{12|\\mathbf{r} - \\mathbf{r}_i|^4}\\right) \\text{d}\\mathbf{r}  \n",
    "\\end{equation}\n",
    "\n",
    "To account for the fact that the water number density increases near surfaces, we add an extra  1.4$angs$ layer beyond the shell surface, and with an augmented density of 1.8$\\rho_w$. Then, the energy can be written as\n",
    "\n",
    "\\begin{equation}\n",
    "\\Delta G_{disp} = \\sum_i \\int_{layer}1.8\\rho_w \\left(\\frac{A_i}{|\\mathbf{r}-\\mathbf{r}_i|^12} - \\frac{B_i}{|\\mathbf{r}-\\mathbf{r}_i|^6}\\right) d\\mathbf{r} + \\int_{solv}\\rho_w \\left(\\frac{A_i}{|\\mathbf{r}-\\mathbf{r}_i|^12} - \\frac{B_i}{|\\mathbf{r}-\\mathbf{r}_i|^6}\\right) d\\mathbf{r}  \n",
    "\\end{equation}\n",
    "\n",
    "where the first term is the integral over the new layer, and the second over the rest of the solvent. We can write the first integral as\n",
    "\n",
    "\\begin{equation}\n",
    "\\int_{layer}1.8\\rho_w \\left(\\frac{A_i}{|\\mathbf{r}-\\mathbf{r}_i|^12} - \\frac{B_i}{|\\mathbf{r}-\\mathbf{r}_i|^6}\\right) d\\mathbf{r} = \\int_{layer+solv}1.8\\rho_w \\left(\\frac{A_i}{|\\mathbf{r}-\\mathbf{r}_i|^12} - \\frac{B_i}{|\\mathbf{r}-\\mathbf{r}_i|^6}\\right) d\\mathbf{r} - \\int_{solv}1.8\\rho_w \\left(\\frac{A_i}{|\\mathbf{r}-\\mathbf{r}_i|^12} - \\frac{B_i}{|\\mathbf{r}-\\mathbf{r}_i|^6}\\right) d\\mathbf{r}\n",
    "\\end{equation}\n",
    "\n",
    "which can be written as surface integrals\n",
    "\n",
    "\\begin{equation}\n",
    "\\int_{layer}1.8\\rho_w \\left(\\frac{A_i}{|\\mathbf{r}-\\mathbf{r}_i|^12} - \\frac{B_i}{|\\mathbf{r}-\\mathbf{r}_i|^6}\\right) d\\mathbf{r} = \\oint_{shell} 1.8\\rho_w \\frac{\\partial}{\\partial \\mathbf{n}}\\left( \\frac{A_i}{90|\\mathbf{r} - \\mathbf{r}_i|^{10}} - \\frac{B_i}{12|\\mathbf{r} - \\mathbf{r}_i|^4}\\right) \\text{d}\\mathbf{r} - \\oint_{shell, out} 1.8\\rho_w \\frac{\\partial}{\\partial \\mathbf{n}}\\left( \\frac{A_i}{90|\\mathbf{r} - \\mathbf{r}_i|^{10}} - \\frac{B_i}{12|\\mathbf{r} - \\mathbf{r}_i|^4}\\right) \\text{d}\\mathbf{r}. \n",
    "\\end{equation}\n",
    "\n",
    "Then, the dispersion energy is\n",
    "\n",
    "\\begin{equation}\n",
    "\\Delta G_{disp} = \\sum_i \\left( \\oint_{shell} 1.8\\rho_w \\frac{\\partial}{\\partial \\mathbf{n}}\\left( \\frac{A_i}{90|\\mathbf{r} - \\mathbf{r}_i|^{10}} - \\frac{B_i}{12|\\mathbf{r} - \\mathbf{r}_i|^4}\\right) \\text{d}\\mathbf{r} -  \\oint_{shell, out} 0.8\\rho_w \\frac{\\partial}{\\partial \\mathbf{n}}\\left( \\frac{A_i}{90|\\mathbf{r} - \\mathbf{r}_i|^{10}} - \\frac{B_i}{12|\\mathbf{r} - \\mathbf{r}_i|^4}\\right) \\text{d}\\mathbf{r} \\right)\n",
    "\\end{equation}\n",
    "\n",
    "First, we need to import the mesh for the outer interface, between the new layer and the solvent, and the position and van der Waals parameters of the atoms"
   ]
  },
  {
   "cell_type": "code",
   "execution_count": null,
   "metadata": {},
   "outputs": [],
   "source": [
    "mesh_shell_out = 'mobley_test/nitroethane/surf_d02_stern28'\n",
    "atom_xyzr = 'mobley_test/nitroethane/nitroethane.xyzr'\n",
    "atom_vdw = 'mobley_test/nitroethane/nitroethane.vdw'"
   ]
  },
  {
   "cell_type": "markdown",
   "metadata": {},
   "source": [
    "and the following function computes the surface integral above"
   ]
  },
  {
   "cell_type": "code",
   "execution_count": null,
   "metadata": {},
   "outputs": [],
   "source": [
    "def disp_energy(atom_xyzr_file, atom_vdw_file, mesh):\n",
    "\n",
    "    qe = 1.60217662e-19\n",
    "    Na = 6.0221409e23\n",
    "    rho_w = 0.0336# 1/angs3 number density of water at standard conditions\n",
    "    water_r = 1.7683 # angs\n",
    "    water_eps = 0.1520 # kcal/mol\n",
    "    \n",
    "    atom_xyzr = numpy.loadtxt(atom_xyzr_file) \n",
    "    \n",
    "    atom_pos = atom_xyzr[:,:3]\n",
    "    atom_r   = atom_xyzr[:,3]\n",
    "    N_atom = len(atom_r)\n",
    "    atom_eps = numpy.zeros(N_atom)\n",
    "\n",
    "    i=0\n",
    "    for line in file(atom_vdw_file):\n",
    "        line = line.split()\n",
    "        atom_eps[i] = float(line[-1])\n",
    "        i += 1\n",
    "\n",
    "    grid = generate_grid(mesh)\n",
    "\n",
    "    N_panel = grid.leaf_view.entity_count(0)\n",
    "    vertices = grid.leaf_view.vertices \n",
    "    triangles = grid.leaf_view.elements\n",
    "    elements = list(grid.leaf_view.entity_iterator(0))\n",
    "\n",
    "    area = numpy.zeros(N_panel)\n",
    "    center = numpy.zeros((N_panel,3))\n",
    "    normal = numpy.zeros((N_panel,3))\n",
    "    for i in range(N_panel):\n",
    "        area[i] = elements[i].geometry.volume\n",
    "        center[i,:] = numpy.average(elements[i].geometry.corners[:],axis=1)\n",
    "        v1 = elements[i].geometry.corners[:,1] - elements[i].geometry.corners[:,0]\n",
    "        v2 = elements[i].geometry.corners[:,2] - elements[i].geometry.corners[:,0]\n",
    "        normal[i,:] = numpy.cross(v1,v2)/(2*area[i]) \n",
    "\n",
    "    integral_i = numpy.zeros(N_atom)\n",
    "    for i in range(N_atom):\n",
    "        r_local = center - atom_pos[i,:]\n",
    "        r_norm = numpy.sqrt(numpy.sum(r_local**2, axis=1))\n",
    "        rdn = numpy.sum(r_local*normal, axis=1)\n",
    "        epsilon = numpy.sqrt(water_eps*atom_eps[i])\n",
    "    \n",
    "        A = epsilon*(water_r + atom_r[i])**12\n",
    "        B = 2*epsilon*(water_r + atom_r[i])**6\n",
    "        \n",
    "        r_large = numpy.where(r_norm>0.4*atom_r[i])[0]\n",
    "        if len(r_large)!=len(r_norm):\n",
    "            print 'Triangles out: %i'%(len(center)-len(r_large))\n",
    "    \n",
    "        integral_i[i] = numpy.sum((A/(9*r_norm[r_large]**12) - B/(3*r_norm[r_large]**6)) * rdn[r_large] * area[r_large])   \n",
    "\n",
    "    energy = rho_w*numpy.sum(integral_i) #kcal/mol\n",
    "    return energy"
   ]
  },
  {
   "cell_type": "markdown",
   "metadata": {},
   "source": [
    "Next, we call this function for both surfaces, and compute the energy"
   ]
  },
  {
   "cell_type": "code",
   "execution_count": null,
   "metadata": {},
   "outputs": [],
   "source": [
    "e_diel = vdw_energy_mol(atom_xyzr, atom_vdw, mesh_stern)\n",
    "e_diel_out = vdw_energy_mol(atom_xyzr, atom_vdw, mesh_stern_out)"
   ]
  },
  {
   "cell_type": "markdown",
   "metadata": {},
   "source": [
    "and finally compute the energy"
   ]
  },
  {
   "cell_type": "code",
   "execution_count": null,
   "metadata": {},
   "outputs": [],
   "source": [
    "dGdisp = e_diel*1.8 - e_diel_out*0.8"
   ]
  }
 ],
 "metadata": {
  "kernelspec": {
   "display_name": "Python 3",
   "language": "python",
   "name": "python3"
  },
  "language_info": {
   "codemirror_mode": {
    "name": "ipython",
    "version": 3
   },
   "file_extension": ".py",
   "mimetype": "text/x-python",
   "name": "python",
   "nbconvert_exporter": "python",
   "pygments_lexer": "ipython3",
   "version": "3.7.2"
  }
 },
 "nbformat": 4,
 "nbformat_minor": 2
}
