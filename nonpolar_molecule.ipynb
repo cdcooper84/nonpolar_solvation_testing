{
 "cells": [
  {
   "cell_type": "code",
   "execution_count": 2,
   "metadata": {},
   "outputs": [],
   "source": [
    "import numpy\n",
    "import bempp.api\n",
    "from bempp.api.operators.boundary import sparse, laplace\n",
    "from scipy.sparse.linalg import gmres"
   ]
  },
  {
   "cell_type": "code",
   "execution_count": 3,
   "metadata": {},
   "outputs": [],
   "source": [
    "def rhs_fun(x, n, domain_index,result):\n",
    "    global phi_static\n",
    "    result[:] = phi_static\n",
    "    \n",
    "def generate_grid(filename):\n",
    "    \n",
    "    face = open(filename+'.face','r').read()\n",
    "    vert = open(filename+'.vert','r').read()\n",
    "\n",
    "    faces = numpy.vstack(numpy.char.split(face.split('\\n')[0:-1]))[:,:3].astype(int) - 1\n",
    "    verts = numpy.vstack(numpy.char.split(vert.split('\\n')[0:-1]))[:,:3].astype(float)\n",
    "\n",
    "    grid = bempp.api.grid_from_element_data(verts.transpose(), faces.transpose())\n",
    "    \n",
    "    N = grid.leaf_view.entity_count(0)\n",
    "    elements = list(grid.leaf_view.entity_iterator(0))\n",
    "    area = numpy.zeros(N)\n",
    "\n",
    "    # remove zero areas\n",
    "    for i in range(N):\n",
    "        area[i] = elements[i].geometry.volume\n",
    "\n",
    "    area_nonzero = numpy.where(area>1e-12)[0]\n",
    "    \n",
    "    faces_nonzero = faces[area_nonzero,:]\n",
    "    \n",
    "    grid = bempp.api.grid_from_element_data(verts.transpose(), faces_nonzero.transpose())\n",
    "    \n",
    "    return grid\n",
    "\n",
    "def energy_mol(mesh_diel, mesh_stern, phi_static, eps_s):\n",
    "\n",
    "    grid_diel = generate_grid(mesh_diel)\n",
    "    grid_stern = generate_grid(mesh_stern)\n",
    "\n",
    "    space_diel = bempp.api.function_space(grid_diel, \"DP\", 0)\n",
    "    space_stern = bempp.api.function_space(grid_stern, \"DP\", 0)\n",
    "    \n",
    "    N_diel = grid_diel.leaf_view.entity_count(0)\n",
    "    N_stern = grid_stern.leaf_view.entity_count(0)\n",
    "    \n",
    "    elements_d = list(grid_diel.leaf_view.entity_iterator(0))\n",
    "    elements_s = list(grid_stern.leaf_view.entity_iterator(0))\n",
    "\n",
    "    phis_grid_fun = bempp.api.GridFunction(space_diel, fun=rhs_fun)\n",
    "\n",
    "    rhs = numpy.concatenate([eps_s*phis_grid_fun.coefficients, \n",
    "                      numpy.zeros(N_stern)])\n",
    "    \n",
    "\n",
    "    M11   = laplace.single_layer(space_diel, space_diel, space_diel) \n",
    "    M12   = laplace.single_layer(space_stern, space_diel, space_diel) \n",
    "    M21   = laplace.single_layer(space_diel, space_stern, space_stern)\n",
    "    M22   = laplace.single_layer(space_stern, space_stern, space_stern) \n",
    "\n",
    "    blocked = bempp.api.BlockedOperator(2, 2)\n",
    "    blocked[0,0] = M11\n",
    "    blocked[0,1] = M12\n",
    "    blocked[1,0] = M21\n",
    "    blocked[1,1] = M22\n",
    "    op_discrete = blocked.strong_form()\n",
    "    \n",
    "    sigma, info = gmres(op_discrete, rhs, tol=1e-5, maxiter=500, restart = 1000)\n",
    "    \n",
    "    if info>0:\n",
    "        print 'Not converged, %i iterations'%info\n",
    "    elif info<0:\n",
    "        print 'Solver diverges'\n",
    "    \n",
    "    sigma_d = sigma[:N_diel]\n",
    "    sigma_s = sigma[N_diel:]\n",
    "\n",
    "    \n",
    "    qe = 1.60217662e-19\n",
    "    Rw = 1.4\n",
    "    Na = 6.0221409e23\n",
    "    eps_0 = 8.854187817e-12\n",
    "    \n",
    "    #water_charge = 0.83*qe/(numpy.pi*Rw**2) * Na*qe*1e10/(1000*eps_0)\n",
    "    water_dipole = 6.17e-30/(1e-10)/((2*Rw)**2) * Na*qe*1e10/(1000*eps_0)\n",
    "    print water_dipole\n",
    "    print sigma_s[:5]*1.4\n",
    "    print max(abs(sigma_s*1.4))\n",
    "    '''\n",
    "    test_charge = numpy.where(abs(sigma_d)*1.4>water_dipole)[0]\n",
    "    #print abs(sigma_d)\n",
    "    if len(test_charge)>0:\n",
    "        print 'Unphysical charge in dielectric surface'\n",
    "        print len(test_charge)\n",
    "    '''    \n",
    "    \n",
    "    test_charge = numpy.where(abs(sigma_s)*1.4>water_dipole)[0]\n",
    "    if len(test_charge)>0:\n",
    "        print 'Unphysical charge in stern surface'\n",
    "        print len(test_charge)\n",
    "    \n",
    "    area_d = numpy.zeros(N_diel)\n",
    "    for i in range(N_diel):\n",
    "        area_d[i] = elements_d[i].geometry.volume\n",
    "    \n",
    "    energy = 0.5*numpy.sum(area_d*sigma_d*phi_static)\n",
    "\n",
    "    return energy"
   ]
  },
  {
   "cell_type": "code",
   "execution_count": null,
   "metadata": {},
   "outputs": [
    {
     "name": "stdout",
     "output_type": "stream",
     "text": [
      "857.593881087\n",
      "[  -3.29858506 -256.97958675 -105.87498947  -86.2291428   -61.95141142]\n",
      "450.149683454\n",
      "Run 0 for 1112_tetrachloroethane. Energy = 1.700 kcal/mol\n",
      "857.593881087\n",
      "[ -16.73538278 -351.49644517 -157.82194318 -114.89586016 -118.49861404]\n",
      "421.520802\n",
      "Run 1 for 111_trichloroethane. Energy = 1.573 kcal/mol\n"
     ]
    }
   ],
   "source": [
    "phi_static = 10. #kcal/mol/e\n",
    "phi_static *= 4.184 # kJ/mol/e\n",
    "\n",
    "qe = 1.60217662e-19\n",
    "Na = 6.0221409e23\n",
    "eps_0 = 8.854187817e-12\n",
    "eps_s = 1.#80.\n",
    "\n",
    "conv_factor = (1000*eps_0)/(qe**2*Na*1e10)\n",
    "\n",
    "problem_folder = 'mobley_test/'\n",
    "namefile = 'actually_all_names.txt'\n",
    "num_lines = sum(1 for line in open(problem_folder+namefile))\n",
    "energy = numpy.zeros(num_lines)\n",
    "it = 0\n",
    "for line in file(problem_folder+namefile):\n",
    "    mol = line[:-1]\n",
    "\n",
    "    mesh_stern = problem_folder+mol+'/surf_d02_stern'\n",
    "    mesh_diel = problem_folder+mol+'/surf_d02'\n",
    "\n",
    "    try: \n",
    "        e = energy_mol(mesh_diel, mesh_stern, phi_static, eps_s)\n",
    "    except:\n",
    "        print 'Something went wrong'\n",
    "        e = 0\n",
    "            \n",
    "    ekJ = e*conv_factor # kJ/mol\n",
    "    ekcal = ekJ/4.184   # kcal/mol\n",
    "    \n",
    "    energy[it] = ekcal\n",
    "    \n",
    "    print 'Run %i for '%it + mol + '. Energy = %1.3f kcal/mol'%energy[it]\n",
    "    \n",
    "    it += 1\n",
    "    \n",
    "numpy.savetxt('energy_bem.txt', energy)"
   ]
  },
  {
   "cell_type": "code",
   "execution_count": null,
   "metadata": {},
   "outputs": [],
   "source": []
  },
  {
   "cell_type": "code",
   "execution_count": 4,
   "metadata": {},
   "outputs": [
    {
     "name": "stdout",
     "output_type": "stream",
     "text": [
      "857.593881087\n",
      "[-38.81146449 -35.64174868 -32.39337465 -33.00538384 -31.49356311]\n",
      "438.909780327\n",
      "1.54818840252\n"
     ]
    }
   ],
   "source": [
    "mesh_stern = 'mobley_test/1112_tetrachloroethane/surf_d04_stern'\n",
    "mesh_diel = 'mobley_test/1112_tetrachloroethane/surf_d04'\n",
    "\n",
    "qe = 1.60217662e-19\n",
    "Na = 6.0221409e23\n",
    "eps_0 = 8.854187817e-12\n",
    "eps_s = 1.#80.\n",
    "\n",
    "phi_static = 40. #kJ/mol/e\n",
    "\n",
    "\n",
    "e = energy_mol(mesh_diel, mesh_stern, phi_static, eps_s)\n",
    "ekj = e / ((qe**2*Na*1e10)/(1000*eps_0))\n",
    "ekcal = ekj/4.184\n",
    "#print e, e / ((qe**2*Na*1e10)/(1000*eps_0)), e/(1000*4.184) #kJ/mol\n",
    "print ekcal"
   ]
  },
  {
   "cell_type": "code",
   "execution_count": 33,
   "metadata": {},
   "outputs": [
    {
     "name": "stdout",
     "output_type": "stream",
     "text": [
      "[[-0.802 -0.885 -0.46 ]\n",
      " [ 1.119  0.807  1.406]\n",
      " [ 0.339  0.758  0.614]]\n"
     ]
    },
    {
     "ename": "AttributeError",
     "evalue": "'Geometry' object has no attribute 'global2local'",
     "output_type": "error",
     "traceback": [
      "\u001b[0;31m---------------------------------------------------------------------------\u001b[0m",
      "\u001b[0;31mAttributeError\u001b[0m                            Traceback (most recent call last)",
      "\u001b[0;32m<ipython-input-33-969a379e9c95>\u001b[0m in \u001b[0;36m<module>\u001b[0;34m()\u001b[0m\n\u001b[1;32m     12\u001b[0m \u001b[0;34m\u001b[0m\u001b[0m\n\u001b[1;32m     13\u001b[0m \u001b[0;32mprint\u001b[0m \u001b[0melements_d\u001b[0m\u001b[0;34m[\u001b[0m\u001b[0;36m0\u001b[0m\u001b[0;34m]\u001b[0m\u001b[0;34m.\u001b[0m\u001b[0mgeometry\u001b[0m\u001b[0;34m.\u001b[0m\u001b[0mcorners\u001b[0m\u001b[0;34m\u001b[0m\u001b[0m\n\u001b[0;32m---> 14\u001b[0;31m \u001b[0;32mprint\u001b[0m \u001b[0melements_d\u001b[0m\u001b[0;34m[\u001b[0m\u001b[0;36m0\u001b[0m\u001b[0;34m]\u001b[0m\u001b[0;34m.\u001b[0m\u001b[0mgeometry\u001b[0m\u001b[0;34m.\u001b[0m\u001b[0mglobal2local\u001b[0m\u001b[0;34m(\u001b[0m\u001b[0mnumpy\u001b[0m\u001b[0;34m.\u001b[0m\u001b[0marray\u001b[0m\u001b[0;34m(\u001b[0m\u001b[0;34m[\u001b[0m\u001b[0;34m[\u001b[0m\u001b[0;36m1.\u001b[0m\u001b[0;34m,\u001b[0m\u001b[0;36m0.\u001b[0m\u001b[0;34m,\u001b[0m\u001b[0;36m0.\u001b[0m\u001b[0;34m]\u001b[0m\u001b[0;34m]\u001b[0m\u001b[0;34m)\u001b[0m\u001b[0;34m)\u001b[0m\u001b[0;34m\u001b[0m\u001b[0m\n\u001b[0m",
      "\u001b[0;31mAttributeError\u001b[0m: 'Geometry' object has no attribute 'global2local'"
     ]
    }
   ],
   "source": [
    "grid_diel = generate_grid(mesh_diel)\n",
    "grid_stern = generate_grid(mesh_stern)\n",
    "\n",
    "space_diel = bempp.api.function_space(grid_diel, \"DP\", 0)\n",
    "space_stern = bempp.api.function_space(grid_stern, \"DP\", 0)\n",
    "    \n",
    "N_diel = grid_diel.leaf_view.entity_count(0)\n",
    "N_stern = grid_stern.leaf_view.entity_count(0)\n",
    "    \n",
    "elements_d = list(grid_diel.leaf_view.entity_iterator(0))\n",
    "elements_s = list(grid_stern.leaf_view.entity_iterator(0))\n",
    "\n",
    "print elements_d[0].geometry.corners\n",
    "print elements_d[0].geometry.local2global(numpy.array([[1.,0.,0.]]))"
   ]
  },
  {
   "cell_type": "code",
   "execution_count": 20,
   "metadata": {},
   "outputs": [
    {
     "data": {
      "text/plain": [
       "58.834913497749994"
      ]
     },
     "execution_count": 20,
     "metadata": {},
     "output_type": "execute_result"
    }
   ],
   "source": [
    "F = 1000*eps_0/(qe**2*Na*1e10)\n",
    "1/(4*numpy.pi*F*4.184)\n",
    "9081457.48434/(332.063*4*numpy.pi)\n",
    "(qe**2*Na*1e10)/(eps_0)\n",
    "2353.39653991/40"
   ]
  },
  {
   "cell_type": "code",
   "execution_count": null,
   "metadata": {},
   "outputs": [],
   "source": [
    "1.54"
   ]
  }
 ],
 "metadata": {
  "kernelspec": {
   "display_name": "Python 2",
   "language": "python",
   "name": "python2"
  },
  "language_info": {
   "codemirror_mode": {
    "name": "ipython",
    "version": 2
   },
   "file_extension": ".py",
   "mimetype": "text/x-python",
   "name": "python",
   "nbconvert_exporter": "python",
   "pygments_lexer": "ipython2",
   "version": "2.7.12"
  }
 },
 "nbformat": 4,
 "nbformat_minor": 2
}
