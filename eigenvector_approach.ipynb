{
 "cells": [
  {
   "cell_type": "code",
   "execution_count": 6,
   "metadata": {},
   "outputs": [],
   "source": [
    "import numpy\n",
    "import bempp.api\n",
    "from bempp.api.operators.boundary import sparse, laplace, modified_helmholtz\n",
    "from scipy.sparse.linalg import gmres"
   ]
  },
  {
   "cell_type": "code",
   "execution_count": 7,
   "metadata": {},
   "outputs": [],
   "source": [
    "def rhs_fun(x, n, domain_index,result):\n",
    "    global phi_static\n",
    "    result[0] = phi_static[0]\n",
    "    \n",
    "def generate_grid(filename):\n",
    "    \n",
    "    face = open(filename+'.face','r').read()\n",
    "    vert = open(filename+'.vert','r').read()\n",
    "\n",
    "    faces = numpy.vstack(numpy.char.split(face.split('\\n')[0:-1]))[:,:3].astype(int) - 1\n",
    "    verts = numpy.vstack(numpy.char.split(vert.split('\\n')[0:-1]))[:,:3].astype(float)\n",
    "\n",
    "    grid = bempp.api.grid_from_element_data(verts.transpose(), faces.transpose())\n",
    "    \n",
    "    N = grid.leaf_view.entity_count(0)\n",
    "    elements = list(grid.leaf_view.entity_iterator(0))\n",
    "    area = numpy.zeros(N)\n",
    "\n",
    "    # remove zero areas\n",
    "    for i in range(N):\n",
    "        area[i] = elements[i].geometry.volume\n",
    "\n",
    "    area_nonzero = numpy.where(area>1e-12)[0]\n",
    "    \n",
    "    faces_nonzero = faces[area_nonzero,:]\n",
    "    \n",
    "    grid = bempp.api.grid_from_element_data(verts.transpose(), faces_nonzero.transpose())\n",
    "    \n",
    "    return grid\n",
    "\n",
    "def energy_mol(mesh_diel, mesh_stern, phi_static, eps_s):\n",
    "\n",
    "    grid_diel = generate_grid(mesh_diel)\n",
    "    grid_stern = generate_grid(mesh_stern)\n",
    "\n",
    "    space_diel = bempp.api.function_space(grid_diel, \"DP\", 0)\n",
    "    space_stern = bempp.api.function_space(grid_stern, \"DP\", 0)\n",
    "    \n",
    "    N_diel = grid_diel.leaf_view.entity_count(0)\n",
    "    N_stern = grid_stern.leaf_view.entity_count(0)\n",
    "    \n",
    "    elements_d = list(grid_diel.leaf_view.entity_iterator(0))\n",
    "    elements_s = list(grid_stern.leaf_view.entity_iterator(0))\n",
    "\n",
    "    phis_grid_fun = bempp.api.GridFunction(space_diel, fun=rhs_fun)\n",
    "\n",
    "    rhs = numpy.concatenate([eps_s*phis_grid_fun.coefficients, \n",
    "                      numpy.zeros(N_stern)])\n",
    "\n",
    "    M11   = laplace.single_layer(space_diel, space_diel, space_diel) \n",
    "    M12   = laplace.single_layer(space_stern, space_diel, space_diel) \n",
    "    M21   = laplace.single_layer(space_diel, space_stern, space_stern)\n",
    "    M22   = laplace.single_layer(space_stern, space_stern, space_stern) \n",
    "\n",
    "    blocked = bempp.api.BlockedOperator(2, 2)\n",
    "    blocked[0,0] = M11\n",
    "    blocked[0,1] = M12\n",
    "    blocked[1,0] = M21\n",
    "    blocked[1,1] = M22\n",
    "    op_discrete = blocked.strong_form()\n",
    "    \n",
    "    sigma, info = gmres(op_discrete, rhs, tol=1e-5, maxiter=500, restart = 1000)\n",
    "    \n",
    "    if info>0:\n",
    "        print 'Not converged, %i iterations'%info\n",
    "    elif info<0:\n",
    "        print 'Solver diverges'\n",
    "    \n",
    "    sigma_d = sigma[:N_diel]\n",
    "    sigma_s = sigma[N_diel:]\n",
    "\n",
    "    \n",
    "    qe = 1.60217662e-19\n",
    "    Rw = 1.4\n",
    "    Na = 6.0221409e23\n",
    "    eps_0 = 8.854187817e-12\n",
    "    \n",
    "    #water_charge = 0.83*qe/(numpy.pi*Rw**2) * Na*qe*1e10/(1000*eps_0)\n",
    "    water_dipole = 6.17e-30/(1e-10)/((2*Rw)**2) * Na*qe*1e10/(1000*eps_0)\n",
    "    print water_dipole\n",
    "    print sigma_s[:5]*1.4\n",
    "    print max(abs(sigma_s*1.4))\n",
    "    '''\n",
    "    test_charge = numpy.where(abs(sigma_d)*1.4>water_dipole)[0]\n",
    "    #print abs(sigma_d)\n",
    "    if len(test_charge)>0:\n",
    "        print 'Unphysical charge in dielectric surface'\n",
    "        print len(test_charge)\n",
    "    '''    \n",
    "    \n",
    "    test_charge = numpy.where(abs(sigma_s)*1.4>water_dipole)[0]\n",
    "    if len(test_charge)>0:\n",
    "        print 'Unphysical charge in stern surface'\n",
    "        print len(test_charge)\n",
    "    \n",
    "    area_d = numpy.zeros(N_diel)\n",
    "    for i in range(N_diel):\n",
    "        area_d[i] = elements_d[i].geometry.volume\n",
    "    \n",
    "    energy = 0.5*numpy.sum(area_d*sigma_d*phi_static)\n",
    "\n",
    "    return energy, float(len(test_charge))/N_stern"
   ]
  },
  {
   "cell_type": "code",
   "execution_count": 8,
   "metadata": {},
   "outputs": [],
   "source": [
    "def yoon_lenhoff_matrix(mesh, eps_in, eps_ex, kappa):\n",
    "    \n",
    "    grid = generate_grid(mesh)\n",
    "    \n",
    "    dirichl_space = bempp.api.function_space(grid, \"DP\", 0)\n",
    "    neumann_space = bempp.api.function_space(grid, \"DP\", 0)\n",
    "\n",
    "    \n",
    "    identity = sparse.identity(dirichl_space, dirichl_space, dirichl_space)\n",
    "    slp_in   = laplace.single_layer(neumann_space, dirichl_space, dirichl_space)\n",
    "    dlp_in   = laplace.double_layer(dirichl_space, dirichl_space, dirichl_space)\n",
    "    slp_out  = modified_helmholtz.single_layer(neumann_space, dirichl_space, dirichl_space, kappa)\n",
    "    dlp_out  = modified_helmholtz.double_layer(dirichl_space, dirichl_space, dirichl_space, kappa)\n",
    "\n",
    "    # Matrix Assembly\n",
    "    blocked = bempp.api.BlockedOperator(2, 2)\n",
    "    blocked[0, 0] = 0.5*identity + dlp_in\n",
    "    blocked[0, 1] = -slp_in\n",
    "    blocked[1, 0] = 0.5*identity - dlp_out\n",
    "    blocked[1, 1] = (eps_in/eps_ex)*slp_out\n",
    "    A = blocked.strong_form()\n",
    "    \n",
    "    A_num = bempp.api.as_matrix(A)\n",
    "\n",
    "    return A_num \n"
   ]
  },
  {
   "cell_type": "code",
   "execution_count": 48,
   "metadata": {},
   "outputs": [
    {
     "name": "stdout",
     "output_type": "stream",
     "text": [
      "5.72765746582e-05\n"
     ]
    }
   ],
   "source": [
    "mesh_stern = 'mobley_test/oct_1_yne/surf_d02_stern'\n",
    "mesh_diel = 'mobley_test/oct_1_yne/surf_d02'\n",
    "\n",
    "qe = 1.60217662e-19\n",
    "Na = 6.0221409e23\n",
    "eps_0 = 8.854187817e-12\n",
    "eps_s = 1.\n",
    "eps_p = 1.\n",
    "kappa = 0.125\n",
    "\n",
    "A = yoon_lenhoff_matrix(mesh_diel, eps_p, eps_s, kappa)\n",
    "\n",
    "w, v = numpy.linalg.eig(A)\n",
    "v0 = v[:,0]\n",
    "N = len(v0)/2\n",
    "\n",
    "phi_static_ref = 40 #kJ/mol/e\n",
    "conv_factor_2 = phi_static_ref / numpy.average(numpy.real(v0[:N]))\n",
    "print conv_factor\n",
    "phi_static = v[0,:N] * conv_factor_2\n",
    "\n"
   ]
  },
  {
   "cell_type": "code",
   "execution_count": 49,
   "metadata": {},
   "outputs": [
    {
     "name": "stdout",
     "output_type": "stream",
     "text": [
      "857.593881087\n",
      "[  76.84406861 -8.26051755j -325.12423446+34.94992511j\n",
      " -147.41572128+15.84676832j -124.97957327+13.43494659j\n",
      " -122.71400455+13.19140444j]\n",
      "2828.73837966\n",
      "Unphysical charge in stern surface\n",
      "5\n",
      "(-0.0210927817541+0.00934558373222j)\n"
     ]
    }
   ],
   "source": [
    "conv_factor = (1000*eps_0)/(qe**2*Na*1e10)\n",
    "\n",
    "e, test_charge = energy_mol(mesh_diel, mesh_stern, phi_static, eps_s)\n",
    "ekj = e * conv_factor\n",
    "ekcal = ekj/4.184\n",
    "print ekcal"
   ]
  },
  {
   "cell_type": "code",
   "execution_count": 56,
   "metadata": {},
   "outputs": [
    {
     "data": {
      "text/plain": [
       "array([ -1.46233681e+00,   1.46233681e+00,  -9.72634681e-01, ...,\n",
       "        -1.46921231e-17,   2.62317452e-05,  -2.62317452e-05])"
      ]
     },
     "execution_count": 56,
     "metadata": {},
     "output_type": "execute_result"
    }
   ],
   "source": [
    "numpy.imag(w)"
   ]
  },
  {
   "cell_type": "code",
   "execution_count": 58,
   "metadata": {},
   "outputs": [
    {
     "data": {
      "text/plain": [
       "1.4623368133916332"
      ]
     },
     "execution_count": 58,
     "metadata": {},
     "output_type": "execute_result"
    }
   ],
   "source": [
    "numpy.max(numpy.imag(w))"
   ]
  },
  {
   "cell_type": "code",
   "execution_count": null,
   "metadata": {},
   "outputs": [],
   "source": []
  }
 ],
 "metadata": {
  "kernelspec": {
   "display_name": "Python 2",
   "language": "python",
   "name": "python2"
  },
  "language_info": {
   "codemirror_mode": {
    "name": "ipython",
    "version": 2
   },
   "file_extension": ".py",
   "mimetype": "text/x-python",
   "name": "python",
   "nbconvert_exporter": "python",
   "pygments_lexer": "ipython2",
   "version": "2.7.12"
  }
 },
 "nbformat": 4,
 "nbformat_minor": 2
}
