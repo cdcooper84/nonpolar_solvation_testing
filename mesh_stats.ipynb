{
 "cells": [
  {
   "cell_type": "code",
   "execution_count": 1,
   "metadata": {},
   "outputs": [],
   "source": [
    "import trimesh\n",
    "import numpy\n",
    "\n",
    "problem_folder = 'mobley_test/'\n",
    "volume = []\n",
    "area = []\n",
    "volume_s = []\n",
    "area_s = []\n",
    "for line in file('actually_all_names.txt'):\n",
    "\n",
    "    mol = line[:-1]\n",
    "    filename = problem_folder+mol+'/surf_d02.off'\n",
    "    filename_s = problem_folder+mol+'/surf_d02_stern.off'\n",
    "\n",
    "    try: \n",
    "        mesh = trimesh.load_mesh(filename)\n",
    "        volume.append(mesh.volume) \n",
    "        area.append(mesh.area)\n",
    "        \n",
    "        mesh_s = trimesh.load_mesh(filename_s)\n",
    "        volume_s.append(mesh_s.volume) \n",
    "        area_s.append(mesh_s.area)\n",
    "        \n",
    "    except:\n",
    "        volume.append(0)\n",
    "        area.append(0)\n",
    "        volume_s.append(0)\n",
    "        area_s.append(0)\n",
    "        \n",
    "numpy.savetxt('volumes.txt',volume)\n",
    "numpy.savetxt('areas.txt',area)\n",
    "\n",
    "numpy.savetxt('volumes_stern.txt',volume_s)\n",
    "numpy.savetxt('areas_stern.txt',area_s)"
   ]
  },
  {
   "cell_type": "code",
   "execution_count": null,
   "metadata": {
    "collapsed": true
   },
   "outputs": [],
   "source": []
  }
 ],
 "metadata": {
  "kernelspec": {
   "display_name": "Python 2",
   "language": "python",
   "name": "python2"
  },
  "language_info": {
   "codemirror_mode": {
    "name": "ipython",
    "version": 2
   },
   "file_extension": ".py",
   "mimetype": "text/x-python",
   "name": "python",
   "nbconvert_exporter": "python",
   "pygments_lexer": "ipython2",
   "version": "2.7.15+"
  }
 },
 "nbformat": 4,
 "nbformat_minor": 2
}
