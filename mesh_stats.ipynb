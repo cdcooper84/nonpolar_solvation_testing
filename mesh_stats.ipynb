{
 "cells": [
  {
   "cell_type": "code",
   "execution_count": 1,
   "metadata": {
    "collapsed": false
   },
   "outputs": [
    {
     "name": "stderr",
     "output_type": "stream",
     "text": [
      "WARNING:trimesh:searching for scad in: /usr/local/bin:/usr/local/Cellar/ruby/2.4.1_1/bin:/System/Library/Frameworks/Python.framework/Versions/2.7/bin:/usr/local/bin:/usr/bin:/bin:/usr/sbin:/sbin:/usr/texbin:/opt/X11/bin:/usr/local/git/bin:/opt/local/bin:/Applications/APBS.app/Contents/MacOS/:/Library/TeX/Distributions/Programs/texbin/:/Applications/OpenSCAD.app/Contents/MacOS\n",
      "WARNING:trimesh:searching for blender in: /usr/local/bin:/usr/local/Cellar/ruby/2.4.1_1/bin:/System/Library/Frameworks/Python.framework/Versions/2.7/bin:/usr/local/bin:/usr/bin:/bin:/usr/sbin:/sbin:/usr/texbin:/opt/X11/bin:/usr/local/git/bin:/opt/local/bin:/Applications/APBS.app/Contents/MacOS/:/Library/TeX/Distributions/Programs/texbin/:/Applications/blender.app/Contents/MacOS:/Applications/Blender/blender.app/Contents/MacOS\n",
      "WARNING:trimesh:No FCL -- collision checking will not work\n",
      "WARNING:trimesh:shapely.geometry.Polygon not available!\n"
     ]
    }
   ],
   "source": [
    "import trimesh\n",
    "import numpy\n",
    "\n",
    "problem_folder = 'mobley_test/'\n",
    "volume = []\n",
    "area = []\n",
    "for line in file('actually_all_names.txt'):\n",
    "\n",
    "    mol = line[:-1]\n",
    "    filename = problem_folder+mol+'/surf_d02.off'\n",
    "\n",
    "    try: \n",
    "        mesh = trimesh.load_mesh(filename)\n",
    "        volume.append(mesh.volume) \n",
    "        area.append(mesh.area)\n",
    "        \n",
    "    except:\n",
    "        volume.append(0)\n",
    "        area.append(0)\n",
    "        \n",
    "numpy.savetxt('volumes.txt',volume)\n",
    "numpy.savetxt('areas.txt',area)"
   ]
  },
  {
   "cell_type": "code",
   "execution_count": null,
   "metadata": {
    "collapsed": true
   },
   "outputs": [],
   "source": []
  }
 ],
 "metadata": {
  "kernelspec": {
   "display_name": "Python 2",
   "language": "python",
   "name": "python2"
  },
  "language_info": {
   "codemirror_mode": {
    "name": "ipython",
    "version": 2
   },
   "file_extension": ".py",
   "mimetype": "text/x-python",
   "name": "python",
   "nbconvert_exporter": "python",
   "pygments_lexer": "ipython2",
   "version": "2.7.9"
  }
 },
 "nbformat": 4,
 "nbformat_minor": 2
}
