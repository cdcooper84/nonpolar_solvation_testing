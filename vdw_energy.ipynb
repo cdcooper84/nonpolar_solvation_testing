{
 "cells": [
  {
   "cell_type": "code",
   "execution_count": 16,
   "metadata": {},
   "outputs": [],
   "source": [
    "import numpy\n",
    "import bempp.api\n",
    "from bempp.api.operators.boundary import sparse, laplace\n",
    "from scipy.sparse.linalg import gmres"
   ]
  },
  {
   "cell_type": "code",
   "execution_count": 17,
   "metadata": {},
   "outputs": [],
   "source": [
    "def generate_grid(filename):\n",
    "    \n",
    "    face = open(filename+'.face','r').read()\n",
    "    vert = open(filename+'.vert','r').read()\n",
    "\n",
    "    faces = numpy.vstack(numpy.char.split(face.split('\\n')[0:-1]))[:,:3].astype(int) - 1\n",
    "    verts = numpy.vstack(numpy.char.split(vert.split('\\n')[0:-1]))[:,:3].astype(float)\n",
    "\n",
    "    grid = bempp.api.grid_from_element_data(verts.transpose(), faces.transpose())\n",
    "    \n",
    "    N = grid.leaf_view.entity_count(0)\n",
    "    elements = list(grid.leaf_view.entity_iterator(0))\n",
    "    area = numpy.zeros(N)\n",
    "\n",
    "    # remove zero areas\n",
    "    for i in range(N):\n",
    "        area[i] = elements[i].geometry.volume\n",
    "\n",
    "    area_nonzero = numpy.where(area>1e-12)[0]\n",
    "    \n",
    "    faces_nonzero = faces[area_nonzero,:]\n",
    "    \n",
    "    grid = bempp.api.grid_from_element_data(verts.transpose(), faces_nonzero.transpose())\n",
    "    \n",
    "    return grid"
   ]
  },
  {
   "cell_type": "code",
   "execution_count": 23,
   "metadata": {},
   "outputs": [
    {
     "name": "stdout",
     "output_type": "stream",
     "text": [
      "1247453.59731 944.186781794\n",
      "Triangles out: 0\n",
      "798296.045632 604.22333614\n",
      "Triangles out: 0\n",
      "1598416.35689 1132.78455426\n",
      "Triangles out: 0\n",
      "1598416.35689 1132.78455426\n",
      "Triangles out: 0\n",
      "1598416.35689 1132.78455426\n",
      "Triangles out: 0\n",
      "1598416.35689 1132.78455426\n",
      "Triangles out: 0\n",
      "53474.6584855 102.220927117\n",
      "Triangles out: 0\n",
      "53474.6584855 102.220927117\n",
      "Triangles out: 0\n",
      "-613.989006689\n",
      "[ -5.90743611e+02   3.46115552e+00  -3.84794719e+03  -3.35243590e+03\n",
      "  -3.38492194e+03  -3.38301338e+03  -1.88407740e+03  -1.83380407e+03]\n"
     ]
    }
   ],
   "source": [
    "mesh_stern = 'mobley_test/1112_tetrachloroethane/surf_d02_stern'\n",
    "mesh_diel = 'mobley_test/1112_tetrachloroethane/surf_d02'\n",
    "atom_vdw = 'mobley_test/1112_tetrachloroethane/1112_tetrachloroethane.vdw'\n",
    "atom_xyzr = numpy.loadtxt('mobley_test/1112_tetrachloroethane/1112_tetrachloroethane.xyzr')\n",
    "\n",
    "\n",
    "\n",
    "qe = 1.60217662e-19\n",
    "Na = 6.0221409e23\n",
    "\n",
    "atom_pos = atom_data[:,:3]\n",
    "atom_r   = atom_data[:,3]\n",
    "N_atom = len(atom_r)\n",
    "atom_eps = numpy.zeros(N_atom)\n",
    "\n",
    "i=0\n",
    "for line in file(atom_vdw):\n",
    "    line = line.split()\n",
    "    atom_eps[i] = float(line[-1])\n",
    "    i += 1\n",
    "    \n",
    "rho_w = 0.0336 # 1/angs3 number density of water at standard conditions\n",
    "water_r = 1.7682 # angs\n",
    "water_eps = 0.1520 # kcal/mol\n",
    "\n",
    "grid = generate_grid(mesh_diel)\n",
    "\n",
    "N_panel = grid.leaf_view.entity_count(0)\n",
    "vertices = grid.leaf_view.vertices \n",
    "triangles = grid.leaf_view.elements\n",
    "elements = list(grid.leaf_view.entity_iterator(0))\n",
    "\n",
    "area = numpy.zeros(N_panel)\n",
    "center = numpy.zeros((N_panel,3))\n",
    "normal = numpy.zeros((N_panel,3))\n",
    "for i in range(N_panel):\n",
    "    area[i] = elements[i].geometry.volume\n",
    "    center[i,:] = numpy.average(elements[i].geometry.corners[:],axis=1)\n",
    "    v1 = elements[i].geometry.corners[:,1] - elements[i].geometry.corners[:,0]\n",
    "    v2 = elements[i].geometry.corners[:,2] - elements[i].geometry.corners[:,0]\n",
    "    normal[i,:] = numpy.cross(v1,v2)/(2*area[i]) \n",
    "\n",
    "integral_i = numpy.zeros(N_atom)\n",
    "for i in range(N_atom):\n",
    "    r_local = center - atom_pos[i,:]\n",
    "    r_norm = numpy.sqrt(numpy.sum(r_local**2, axis=1))\n",
    "    rdn = numpy.sum(r_local*normal, axis=1)\n",
    "    epsilon = numpy.sqrt(water_eps*atom_eps[i])\n",
    "    \n",
    "    A = epsilon*(water_r + atom_r[i])**12\n",
    "    B = 2*epsilon*(water_r + atom_r[i])**6\n",
    "    print A, B\n",
    "        \n",
    "    r_large = numpy.where(r_norm>0.4*atom_r[i])[0]\n",
    "    print 'Triangles out: %i'%(len(center)-len(r_large))\n",
    "    \n",
    "    integral_i[i] = numpy.sum((-A/(9*r_norm[r_large]**12) + B/(3*r_norm[r_large]**6)) * rdn[r_large] * area[r_large])\n",
    "    \n",
    "energy = rho_w*numpy.sum(integral_i)\n",
    "print energy\n",
    "print integral_i"
   ]
  },
  {
   "cell_type": "code",
   "execution_count": null,
   "metadata": {},
   "outputs": [],
   "source": [
    "(1.244+3.177+0.105)/3"
   ]
  },
  {
   "cell_type": "code",
   "execution_count": null,
   "metadata": {},
   "outputs": [],
   "source": [
    "1.73310520523/0.14104208421"
   ]
  },
  {
   "cell_type": "code",
   "execution_count": null,
   "metadata": {},
   "outputs": [],
   "source": [
    "print elements[0].geometry"
   ]
  },
  {
   "cell_type": "code",
   "execution_count": null,
   "metadata": {},
   "outputs": [],
   "source": []
  }
 ],
 "metadata": {
  "kernelspec": {
   "display_name": "Python 2",
   "language": "python",
   "name": "python2"
  },
  "language_info": {
   "codemirror_mode": {
    "name": "ipython",
    "version": 2
   },
   "file_extension": ".py",
   "mimetype": "text/x-python",
   "name": "python",
   "nbconvert_exporter": "python",
   "pygments_lexer": "ipython2",
   "version": "2.7.12"
  }
 },
 "nbformat": 4,
 "nbformat_minor": 2
}
