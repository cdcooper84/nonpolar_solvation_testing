{
 "cells": [
  {
   "cell_type": "code",
   "execution_count": 56,
   "metadata": {},
   "outputs": [],
   "source": [
    "import numpy\n",
    "import bempp.api\n",
    "from bempp.api.operators.boundary import sparse, laplace\n",
    "from scipy.sparse.linalg import gmres"
   ]
  },
  {
   "cell_type": "code",
   "execution_count": 57,
   "metadata": {},
   "outputs": [],
   "source": [
    "def generate_grid(filename):\n",
    "    \n",
    "    face = open(filename+'.face','r').read()\n",
    "    vert = open(filename+'.vert','r').read()\n",
    "\n",
    "    faces = numpy.vstack(numpy.char.split(face.split('\\n')[0:-1]))[:,:3].astype(int) - 1\n",
    "    verts = numpy.vstack(numpy.char.split(vert.split('\\n')[0:-1]))[:,:3].astype(float)\n",
    "\n",
    "    grid = bempp.api.grid_from_element_data(verts.transpose(), faces.transpose())\n",
    "    \n",
    "    N = grid.leaf_view.entity_count(0)\n",
    "    elements = list(grid.leaf_view.entity_iterator(0))\n",
    "    area = numpy.zeros(N)\n",
    "\n",
    "    # remove zero areas\n",
    "    for i in range(N):\n",
    "        area[i] = elements[i].geometry.volume\n",
    "\n",
    "    area_nonzero = numpy.where(area>1e-12)[0]\n",
    "    \n",
    "    faces_nonzero = faces[area_nonzero,:]\n",
    "    \n",
    "    grid = bempp.api.grid_from_element_data(verts.transpose(), faces_nonzero.transpose())\n",
    "    \n",
    "    return grid"
   ]
  },
  {
   "cell_type": "code",
   "execution_count": 67,
   "metadata": {},
   "outputs": [
    {
     "name": "stdout",
     "output_type": "stream",
     "text": [
      "[]\n",
      "[]\n",
      "[]\n",
      "[]\n",
      "[115 153 429 443 446 473 811 856 886 903]\n",
      "[ 0.16091889  0.13523149  0.06086962  0.1507216   0.17221272  0.16409821\n",
      "  0.14710314  0.13523231  0.11973072  0.111004  ]\n",
      "[]\n",
      "[]\n",
      "[]\n",
      "[]\n",
      "[]\n",
      "[]\n",
      "[]\n",
      "[]\n",
      "[]\n",
      "[]\n",
      "-1.44986539052e+12\n",
      "[  3.58134463e+02   2.28680351e-01  -4.31507574e+13   4.24777760e-02\n",
      "   1.89403609e-02   1.13026251e-01   1.04525051e-01   1.68148040e+06]\n"
     ]
    }
   ],
   "source": [
    "mesh_stern = 'mobley_test/1112_tetrachloroethane/surf_d04_stern'\n",
    "mesh_diel = 'mobley_test/1112_tetrachloroethane/surf_d04'\n",
    "atom_data = numpy.loadtxt('mobley_test/1112_tetrachloroethane/radii.xyzr')\n",
    "\n",
    "qe = 1.60217662e-19\n",
    "Na = 6.0221409e23\n",
    "eps_0 = 8.854187817e-12\n",
    "eps_s = 1.#80.\n",
    "\n",
    "atom_pos = atom_data[:,:3]\n",
    "atom_r   = atom_data[:,3]\n",
    "N_atom = len(atom_r)\n",
    "\n",
    "eps_well = 0.3598/4.184 # kcal/mol\n",
    "r_vdw = 1.9080\n",
    "\n",
    "rho_w = 0.0336 # 1/angs3 number density of water at standard conditions\n",
    "\n",
    "grid = generate_grid(mesh_diel)\n",
    "\n",
    "N_panel = grid.leaf_view.entity_count(0)\n",
    "vertices = grid.leaf_view.vertices \n",
    "triangles = grid.leaf_view.elements\n",
    "elements = list(grid.leaf_view.entity_iterator(0))\n",
    "\n",
    "area = numpy.zeros(N_panel)\n",
    "center = numpy.zeros((N_panel,3))\n",
    "normal = numpy.zeros((N_panel,3))\n",
    "for i in range(N_panel):\n",
    "    area[i] = elements[i].geometry.volume\n",
    "    center[i,:] = numpy.average(elements[i].geometry.corners[:],axis=0)\n",
    "    v1 = elements[i].geometry.corners[:,1] - elements[i].geometry.corners[:,0]\n",
    "    v2 = elements[i].geometry.corners[:,2] - elements[i].geometry.corners[:,0]\n",
    "    normal[i,:] = numpy.cross(v1,v2)/(2*area[i]) \n",
    "    \n",
    "\n",
    "integral_i = numpy.zeros(N_atom)\n",
    "for i in range(N_atom):\n",
    "    r_local = center - atom_pos[i,:]\n",
    "    r_norm = numpy.sqrt(numpy.sum(r_local**2, axis=1))\n",
    "    rdn = numpy.sum(r_local*normal, axis=1)\n",
    "    \n",
    "    A = 4*eps_well*atom_r[i]**12\n",
    "    B = 4*eps_well*atom_r[i]**6\n",
    "    \n",
    "    test= numpy.where(A/(90*r_norm**12)>1e10)[0]\n",
    "    print test\n",
    "    print r_norm[test]\n",
    "    \n",
    "    integral_i[i] = numpy.sum((-A/(90*r_norm**12) + B/(12*r_norm**6)) * rdn * area)\n",
    "    \n",
    "energy = rho_w*numpy.sum(integral_i)\n",
    "print energy\n",
    "print integral_i"
   ]
  },
  {
   "cell_type": "code",
   "execution_count": 22,
   "metadata": {},
   "outputs": [],
   "source": [
    "grid.topology"
   ]
  },
  {
   "cell_type": "code",
   "execution_count": 28,
   "metadata": {},
   "outputs": [
    {
     "data": {
      "text/plain": [
       "12.287858726261799"
      ]
     },
     "execution_count": 28,
     "metadata": {},
     "output_type": "execute_result"
    }
   ],
   "source": [
    "1.73310520523/0.14104208421"
   ]
  },
  {
   "cell_type": "code",
   "execution_count": 33,
   "metadata": {},
   "outputs": [
    {
     "name": "stdout",
     "output_type": "stream",
     "text": [
      "<bempp.api.grid.geometry.Geometry object at 0x7f19240d9750>\n"
     ]
    }
   ],
   "source": [
    "print elements[0].geometry"
   ]
  },
  {
   "cell_type": "code",
   "execution_count": null,
   "metadata": {},
   "outputs": [],
   "source": []
  }
 ],
 "metadata": {
  "kernelspec": {
   "display_name": "Python 2",
   "language": "python",
   "name": "python2"
  },
  "language_info": {
   "codemirror_mode": {
    "name": "ipython",
    "version": 2
   },
   "file_extension": ".py",
   "mimetype": "text/x-python",
   "name": "python",
   "nbconvert_exporter": "python",
   "pygments_lexer": "ipython2",
   "version": "2.7.12"
  }
 },
 "nbformat": 4,
 "nbformat_minor": 2
}
