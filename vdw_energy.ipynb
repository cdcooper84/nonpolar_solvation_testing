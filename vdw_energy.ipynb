{
 "cells": [
  {
   "cell_type": "code",
   "execution_count": 30,
   "metadata": {},
   "outputs": [],
   "source": [
    "import numpy\n",
    "import bempp.api\n",
    "from bempp.api.operators.boundary import sparse, laplace\n",
    "from scipy.sparse.linalg import gmres"
   ]
  },
  {
   "cell_type": "code",
   "execution_count": 31,
   "metadata": {},
   "outputs": [],
   "source": [
    "def generate_grid(filename):\n",
    "    \n",
    "    face = open(filename+'.face','r').read()\n",
    "    vert = open(filename+'.vert','r').read()\n",
    "\n",
    "    faces = numpy.vstack(numpy.char.split(face.split('\\n')[0:-1]))[:,:3].astype(int) - 1\n",
    "    verts = numpy.vstack(numpy.char.split(vert.split('\\n')[0:-1]))[:,:3].astype(float)\n",
    "\n",
    "    grid = bempp.api.grid_from_element_data(verts.transpose(), faces.transpose())\n",
    "    \n",
    "    N = grid.leaf_view.entity_count(0)\n",
    "    elements = list(grid.leaf_view.entity_iterator(0))\n",
    "    area = numpy.zeros(N)\n",
    "\n",
    "    # remove zero areas\n",
    "    for i in range(N):\n",
    "        area[i] = elements[i].geometry.volume\n",
    "\n",
    "    area_nonzero = numpy.where(area>1e-12)[0]\n",
    "    \n",
    "    faces_nonzero = faces[area_nonzero,:]\n",
    "    \n",
    "    grid = bempp.api.grid_from_element_data(verts.transpose(), faces_nonzero.transpose())\n",
    "    \n",
    "    return grid"
   ]
  },
  {
   "cell_type": "code",
   "execution_count": 32,
   "metadata": {},
   "outputs": [
    {
     "name": "stdout",
     "output_type": "stream",
     "text": [
      "1088836.75393 882.118849578\n",
      "696790.70779 564.503554214\n",
      "742364.907665 690.894666502\n",
      "472934.642922 581.361516651\n",
      "472934.642922 581.361516651\n",
      "69177.33682 116.264659768\n",
      "69177.33682 116.264659768\n",
      "69177.33682 116.264659768\n",
      "47572.8871976 96.4152119997\n",
      "47572.8871976 96.4152119997\n",
      "8.07249209442\n",
      "[ 50.87257828  30.58321088  39.2516158   39.96537094  39.85878752\n",
      "   8.31952449   8.31011688   8.9197285    7.08208271   7.08972489]\n"
     ]
    }
   ],
   "source": [
    "molecule = 'nitroethane'\n",
    "mesh_stern = 'mobley_test/'+molecule+'/surf_d02_stern'\n",
    "mesh_diel = 'mobley_test/'+molecule+'/surf_d02'\n",
    "atom_vdw = 'mobley_test/'+molecule+'/'+molecule+'.vdw'\n",
    "atom_xyzr = numpy.loadtxt('mobley_test/'+molecule+'/'+molecule+'.xyzr')\n",
    "\n",
    "\n",
    "\n",
    "qe = 1.60217662e-19\n",
    "Na = 6.0221409e23\n",
    "\n",
    "atom_pos = atom_xyzr[:,:3]\n",
    "atom_r   = atom_xyzr[:,3]\n",
    "N_atom = len(atom_r)\n",
    "atom_eps = numpy.zeros(N_atom)\n",
    "\n",
    "i=0\n",
    "for line in file(atom_vdw):\n",
    "    line = line.split()\n",
    "    atom_eps[i] = float(line[-1])\n",
    "    i += 1\n",
    "    \n",
    "rho_w = 0.0336 # 1/angs3 number density of water at standard conditions\n",
    "water_r = 1.7683 # angs\n",
    "water_eps = 0.1520 # kcal/mol\n",
    "\n",
    "grid = generate_grid(mesh_stern)\n",
    "\n",
    "N_panel = grid.leaf_view.entity_count(0)\n",
    "vertices = grid.leaf_view.vertices \n",
    "triangles = grid.leaf_view.elements\n",
    "elements = list(grid.leaf_view.entity_iterator(0))\n",
    "\n",
    "area = numpy.zeros(N_panel)\n",
    "center = numpy.zeros((N_panel,3))\n",
    "normal = numpy.zeros((N_panel,3))\n",
    "for i in range(N_panel):\n",
    "    area[i] = elements[i].geometry.volume\n",
    "    center[i,:] = numpy.average(elements[i].geometry.corners[:],axis=1)\n",
    "    v1 = elements[i].geometry.corners[:,1] - elements[i].geometry.corners[:,0]\n",
    "    v2 = elements[i].geometry.corners[:,2] - elements[i].geometry.corners[:,0]\n",
    "    normal[i,:] = numpy.cross(v1,v2)/(2*area[i]) \n",
    "\n",
    "integral_i = numpy.zeros(N_atom)\n",
    "for i in range(N_atom):\n",
    "    r_local = center - atom_pos[i,:]\n",
    "    r_norm = numpy.sqrt(numpy.sum(r_local**2, axis=1))\n",
    "    rdn = numpy.sum(r_local*normal, axis=1)\n",
    "    epsilon = numpy.sqrt(water_eps*atom_eps[i])\n",
    "    \n",
    "    A = epsilon*(water_r + atom_r[i])**12\n",
    "    B = 2*epsilon*(water_r + atom_r[i])**6\n",
    "    print A, B\n",
    "        \n",
    "    r_large = numpy.where(r_norm>0.4*atom_r[i])[0]\n",
    "    if len(r_large)!=len(r_norm):\n",
    "        print 'Triangles out: %i'%(len(center)-len(r_large))\n",
    "    \n",
    "    integral_i[i] = numpy.sum((-A/(9*r_norm[r_large]**12) + B/(3*r_norm[r_large]**6)) * rdn[r_large] * area[r_large])\n",
    "    \n",
    "#mask_h = numpy.zeros(len(integral_i))\n",
    "#mask_h[:4] = 1.\n",
    "energy = rho_w*numpy.sum(integral_i)\n",
    "print energy\n",
    "print integral_i"
   ]
  },
  {
   "cell_type": "code",
   "execution_count": 33,
   "metadata": {},
   "outputs": [
    {
     "data": {
      "text/plain": [
       "1.5086666666666668"
      ]
     },
     "execution_count": 33,
     "metadata": {},
     "output_type": "execute_result"
    }
   ],
   "source": [
    "(1.244+3.177+0.105)/3"
   ]
  },
  {
   "cell_type": "code",
   "execution_count": 34,
   "metadata": {},
   "outputs": [
    {
     "data": {
      "text/plain": [
       "12.287858726261799"
      ]
     },
     "execution_count": 34,
     "metadata": {},
     "output_type": "execute_result"
    }
   ],
   "source": [
    "1.73310520523/0.14104208421"
   ]
  },
  {
   "cell_type": "code",
   "execution_count": 35,
   "metadata": {},
   "outputs": [
    {
     "name": "stdout",
     "output_type": "stream",
     "text": [
      "<bempp.api.grid.geometry.Geometry object at 0x7fe787fc0f10>\n"
     ]
    }
   ],
   "source": [
    "print elements[0].geometry"
   ]
  },
  {
   "cell_type": "code",
   "execution_count": 62,
   "metadata": {},
   "outputs": [
    {
     "name": "stdout",
     "output_type": "stream",
     "text": [
      "Energy: -2.15655 kcal/mol\n",
      "Energy per area: -0.00419 kcal/(mol ang**2)\n"
     ]
    }
   ],
   "source": [
    "# compute for sphere\n",
    "ion_r = 5.\n",
    "ion_eps = 0.2#water_eps # LJ well depth\n",
    "\n",
    "epsilon = numpy.sqrt(ion_eps*water_eps)\n",
    "\n",
    "A = epsilon*(water_r + ion_r)**12\n",
    "B = 2*epsilon*(water_r + ion_r)**6\n",
    "surf_area = 4*numpy.pi*(ion_r+1.4)**2\n",
    "\n",
    "energy_sphere = rho_w * (1/9.*A/(ion_r+1.4)**12 - 1/3.*B/(ion_r+1.4)**6) * surf_area \n",
    "print 'Energy: %1.5f kcal/mol'%energy_sphere\n",
    "print 'Energy per area: %1.5f kcal/(mol ang**2)'%(energy_sphere/surf_area)"
   ]
  },
  {
   "cell_type": "code",
   "execution_count": 63,
   "metadata": {},
   "outputs": [
    {
     "data": {
      "text/plain": [
       "-2.9109888588708612"
      ]
     },
     "execution_count": 63,
     "metadata": {},
     "output_type": "execute_result"
    }
   ],
   "source": [
    "energy_sphere/surf_area * 4.184 * 1e6 / (6.022*1e3)"
   ]
  },
  {
   "cell_type": "code",
   "execution_count": null,
   "metadata": {},
   "outputs": [],
   "source": []
  }
 ],
 "metadata": {
  "kernelspec": {
   "display_name": "Python 2",
   "language": "python",
   "name": "python2"
  },
  "language_info": {
   "codemirror_mode": {
    "name": "ipython",
    "version": 2
   },
   "file_extension": ".py",
   "mimetype": "text/x-python",
   "name": "python",
   "nbconvert_exporter": "python",
   "pygments_lexer": "ipython2",
   "version": "2.7.12"
  }
 },
 "nbformat": 4,
 "nbformat_minor": 2
}
