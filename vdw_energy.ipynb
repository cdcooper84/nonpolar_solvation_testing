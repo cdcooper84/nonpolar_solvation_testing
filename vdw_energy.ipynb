{
 "cells": [
  {
   "cell_type": "code",
   "execution_count": 34,
   "metadata": {},
   "outputs": [],
   "source": [
    "import numpy\n",
    "import bempp.api\n",
    "from bempp.api.operators.boundary import sparse, laplace\n",
    "from scipy.sparse.linalg import gmres"
   ]
  },
  {
   "cell_type": "code",
   "execution_count": 35,
   "metadata": {},
   "outputs": [],
   "source": [
    "def generate_grid(filename):\n",
    "    \n",
    "    face = open(filename+'.face','r').read()\n",
    "    vert = open(filename+'.vert','r').read()\n",
    "\n",
    "    faces = numpy.vstack(numpy.char.split(face.split('\\n')[0:-1]))[:,:3].astype(int) - 1\n",
    "    verts = numpy.vstack(numpy.char.split(vert.split('\\n')[0:-1]))[:,:3].astype(float)\n",
    "\n",
    "    grid = bempp.api.grid_from_element_data(verts.transpose(), faces.transpose())\n",
    "    \n",
    "    N = grid.leaf_view.entity_count(0)\n",
    "    elements = list(grid.leaf_view.entity_iterator(0))\n",
    "    area = numpy.zeros(N)\n",
    "\n",
    "    # remove zero areas\n",
    "    for i in range(N):\n",
    "        area[i] = elements[i].geometry.volume\n",
    "\n",
    "    area_nonzero = numpy.where(area>1e-12)[0]\n",
    "    \n",
    "    faces_nonzero = faces[area_nonzero,:]\n",
    "    \n",
    "    grid = bempp.api.grid_from_element_data(verts.transpose(), faces_nonzero.transpose())\n",
    "    \n",
    "    return grid"
   ]
  },
  {
   "cell_type": "code",
   "execution_count": 64,
   "metadata": {},
   "outputs": [
    {
     "name": "stdout",
     "output_type": "stream",
     "text": [
      "Triangles out: 0\n",
      "Triangles out: 0\n",
      "Triangles out: 0\n",
      "Triangles out: 0\n",
      "Triangles out: 0\n",
      "Triangles out: 0\n",
      "Triangles out: 0\n",
      "Triangles out: 0\n",
      "0.297691727837\n",
      "[ 0.94180935  0.66131302  1.71526372  1.57004873  1.61004108  1.57426482\n",
      "  0.39360306  0.39352909]\n"
     ]
    }
   ],
   "source": [
    "mesh_stern = 'mobley_test/1112_tetrachloroethane/surf_d02_stern'\n",
    "mesh_diel = 'mobley_test/1112_tetrachloroethane/surf_d02'\n",
    "atom_data = numpy.loadtxt('mobley_test/1112_tetrachloroethane/radii.xyzr')\n",
    "\n",
    "qe = 1.60217662e-19\n",
    "Na = 6.0221409e23\n",
    "eps_0 = 8.854187817e-12\n",
    "eps_s = 1.#80.\n",
    "\n",
    "atom_pos = atom_data[:,:3]\n",
    "atom_r   = atom_data[:,3]\n",
    "N_atom = len(atom_r)\n",
    "\n",
    "eps_well = 0.3598/4.184 # kcal/mol\n",
    "r_vdw = 1.9080\n",
    "\n",
    "rho_w = 0.0336 # 1/angs3 number density of water at standard conditions\n",
    "\n",
    "grid = generate_grid(mesh_diel)\n",
    "\n",
    "N_panel = grid.leaf_view.entity_count(0)\n",
    "vertices = grid.leaf_view.vertices \n",
    "triangles = grid.leaf_view.elements\n",
    "elements = list(grid.leaf_view.entity_iterator(0))\n",
    "\n",
    "area = numpy.zeros(N_panel)\n",
    "center = numpy.zeros((N_panel,3))\n",
    "normal = numpy.zeros((N_panel,3))\n",
    "for i in range(N_panel):\n",
    "    area[i] = elements[i].geometry.volume\n",
    "    center[i,:] = numpy.average(elements[i].geometry.corners[:],axis=1)\n",
    "    v1 = elements[i].geometry.corners[:,1] - elements[i].geometry.corners[:,0]\n",
    "    v2 = elements[i].geometry.corners[:,2] - elements[i].geometry.corners[:,0]\n",
    "    normal[i,:] = numpy.cross(v1,v2)/(2*area[i]) \n",
    "\n",
    "integral_i = numpy.zeros(N_atom)\n",
    "for i in range(N_atom):\n",
    "    r_local = center - atom_pos[i,:]\n",
    "    r_norm = numpy.sqrt(numpy.sum(r_local**2, axis=1))\n",
    "    rdn = numpy.sum(r_local*normal, axis=1)\n",
    "    \n",
    "    A = 4*eps_well*atom_r[i]**12\n",
    "    B = 4*eps_well*atom_r[i]**6\n",
    "    \n",
    " #   test= numpy.where(A/(90*r_norm**12)>1e10)[0]\n",
    " #   if len(test)>0:\n",
    " #       print test\n",
    " #       print r_norm[test]\n",
    " #       print elements[test[0]].geometry.corners[:]\n",
    " #       print center[test[0]]\n",
    " #       print atom_pos[i,:]\n",
    " #       print numpy.sum((elements[test[0]].geometry.corners[:,2] - atom_pos[i,:])**2)\n",
    "        \n",
    "    r_large = numpy.where(r_norm>0.4*atom_r[i])[0]\n",
    "    print 'Triangles out: %i'%(len(center)-len(r_large))\n",
    "    \n",
    "    '''\n",
    "    r_small = numpy.where(r_norm<0.2*atom_r[i])[0]\n",
    "    if len(r_small)>0:\n",
    "        print elements[r_small[0]].geometry.corners[:]\n",
    "        print center[r_small[0]]\n",
    "        print 'atom pos and radius'\n",
    "        print atom_pos[i,:], atom_r[i]\n",
    "        print 'distance to corners'\n",
    "        print numpy.sqrt(numpy.sum((elements[r_small[0]].geometry.corners[:,0] - atom_pos[i,:])**2))\n",
    "        print numpy.sqrt(numpy.sum((elements[r_small[0]].geometry.corners[:,1] - atom_pos[i,:])**2))\n",
    "        print numpy.sqrt(numpy.sum((elements[r_small[0]].geometry.corners[:,2] - atom_pos[i,:])**2))\n",
    "        print 'distance to center'\n",
    "        print r_norm[r_small[0]]\n",
    "    '''\n",
    "    integral_i[i] = numpy.sum((-A/(90*r_norm[r_large]**12) + B/(12*r_norm[r_large]**6)) * rdn[r_large] * area[r_large])\n",
    "    \n",
    "energy = rho_w*numpy.sum(integral_i)\n",
    "print energy\n",
    "print integral_i"
   ]
  },
  {
   "cell_type": "code",
   "execution_count": 39,
   "metadata": {},
   "outputs": [
    {
     "data": {
      "text/plain": [
       "1.5086666666666668"
      ]
     },
     "execution_count": 39,
     "metadata": {},
     "output_type": "execute_result"
    }
   ],
   "source": [
    "(1.244+3.177+0.105)/3"
   ]
  },
  {
   "cell_type": "code",
   "execution_count": null,
   "metadata": {},
   "outputs": [],
   "source": [
    "1.73310520523/0.14104208421"
   ]
  },
  {
   "cell_type": "code",
   "execution_count": null,
   "metadata": {},
   "outputs": [],
   "source": [
    "print elements[0].geometry"
   ]
  },
  {
   "cell_type": "code",
   "execution_count": null,
   "metadata": {},
   "outputs": [],
   "source": []
  }
 ],
 "metadata": {
  "kernelspec": {
   "display_name": "Python 2",
   "language": "python",
   "name": "python2"
  },
  "language_info": {
   "codemirror_mode": {
    "name": "ipython",
    "version": 2
   },
   "file_extension": ".py",
   "mimetype": "text/x-python",
   "name": "python",
   "nbconvert_exporter": "python",
   "pygments_lexer": "ipython2",
   "version": "2.7.12"
  }
 },
 "nbformat": 4,
 "nbformat_minor": 2
}
